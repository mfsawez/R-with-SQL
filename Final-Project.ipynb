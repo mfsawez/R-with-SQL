{
 "cells": [
  {
   "cell_type": "markdown",
   "metadata": {},
   "source": [
    "<center>\n",
    "    <img src=\"https://s3-api.us-geo.objectstorage.softlayer.net/cf-courses-data/CognitiveClass/Logos/organization_logo/organization_logo.png\" width=\"300\" alt=\"cognitiveclass.ai logo\"  />\n",
    "</center>\n",
    "\n",
    "# Assignment: Notebook for Peer Assignment\n",
    "\n",
    "Estimated time needed: 45 minutes\n"
   ]
  },
  {
   "cell_type": "markdown",
   "metadata": {},
   "source": [
    "# Assignment Scenario\n",
    "\n",
    "Congratulations! You have just been hired by a US Venture Capital firm as a data analyst.\n",
    "\n",
    "The company is considering foreign grain markets to help meet its supply chain requirements for its recent investments in the microbrewery and microdistillery industry, which is involved with the production and distribution of craft beers and spirits.\n",
    "\n",
    "Your first task is to provide a high level analysis of crop production in Canada. Your stakeholders want to understand the current and historical performance of certain crop types in terms of supply and price volatility. For now they are mainly interested in a macro-view of Canada's crop farming industry, and how it relates to the relative value of the Canadian and US dollars.\n"
   ]
  },
  {
   "cell_type": "markdown",
   "metadata": {},
   "source": [
    "# Introduction\n",
    "\n",
    "Using this R notebook you will:\n",
    "\n",
    "1.  Understand four datasets\n",
    "2.  Load the datasets into four separate tables in a Db2 database\n",
    "3.  Execute SQL queries unsing the RODBC R package to answer assignment questions\n",
    "\n",
    "You have already encountered two of these datasets in the previous practice lab. You will be able to reuse much of the work you did there to prepare your database tables for executing SQL queries.\n"
   ]
  },
  {
   "cell_type": "markdown",
   "metadata": {},
   "source": [
    "# Understand the datasets\n",
    "\n",
    "To complete the assignment problems in this notebook you will be using subsetted snapshots of two datasets from Statistics Canada, and one from the Bank of Canada. The links to the prepared datasets are provided in the next section; the interested student can explore the landing pages for the source datasets as follows:\n",
    "\n",
    "1.  <a href=\"https://www150.statcan.gc.ca/t1/tbl1/en/tv.action?utm_medium=Exinfluencer&utm_source=Exinfluencer&utm_content=000026UJ&utm_term=10006555&utm_id=NA-SkillsNetwork-Channel-SkillsNetworkCoursesIBMRP0203ENSkillsNetwork23863830-2022-01-01&pid=3210035901\">Canadian Principal Crops (Data & Metadata)</a>\n",
    "2.  <a href=\"https://www150.statcan.gc.ca/t1/tbl1/en/tv.action?utm_medium=Exinfluencer&utm_source=Exinfluencer&utm_content=000026UJ&utm_term=10006555&utm_id=NA-SkillsNetwork-Channel-SkillsNetworkCoursesIBMRP0203ENSkillsNetwork23863830-2022-01-01&pid=3210007701\">Farm product prices (Data & Metadata)</a>\n",
    "3.  <a href=\"https://www.bankofcanada.ca/rates/exchange/daily-exchange-rates?utm_medium=Exinfluencer&utm_source=Exinfluencer&utm_content=000026UJ&utm_term=10006555&utm_id=NA-SkillsNetwork-Channel-SkillsNetworkCoursesIBMRP0203ENSkillsNetwork23863830-2022-01-01\">Bank of Canada daily average exchange rates</a>\n",
    "\n",
    "### 1. Canadian Principal Crops Data \\*\n",
    "\n",
    "This dataset contains agricultural production measures for the principle crops grown in Canada, including a breakdown by province and teritory, for each year from 1908 to 2020.\n",
    "\n",
    "For this assignment you will use a preprocessed snapshot of this dataset (see below).\n",
    "\n",
    "A detailed description of this dataset can be obtained from the StatsCan Data Portal at:\n",
    "[https://www150.statcan.gc.ca/t1/tbl1/en/tv.action?pid=3210035901](https://www150.statcan.gc.ca/t1/tbl1/en/tv.action?utm_medium=Exinfluencer&utm_source=Exinfluencer&utm_content=000026UJ&utm_term=10006555&utm_id=NA-SkillsNetwork-Channel-SkillsNetworkCoursesIBMRP0203ENSkillsNetwork23863830-2022-01-01&pid=3210035901)\\\n",
    "Detailed information is included in the metadata file and as header text in the data file, which can be downloaded - look for the 'download options' link.\n",
    "\n",
    "### 2. Farm product prices\n",
    "\n",
    "This dataset contains monthly average farm product prices for Canadian crops and livestock by province and teritory, from 1980 to 2020 (or 'last year', whichever is greatest).\n",
    "\n",
    "For this assignment you will use a preprocessed snapshot of this dataset (see below).\n",
    "\n",
    "A description of this dataset can be obtained from the StatsCan Data Portal at:\n",
    "[https://www150.statcan.gc.ca/t1/tbl1/en/tv.action?pid=3210007701](https://www150.statcan.gc.ca/t1/tbl1/en/tv.action?utm_medium=Exinfluencer&utm_source=Exinfluencer&utm_content=000026UJ&utm_term=10006555&utm_id=NA-SkillsNetwork-Channel-SkillsNetworkCoursesIBMRP0203ENSkillsNetwork23863830-2022-01-01&pid=3210007701)\n",
    "The information is included in the metadata file, which can be downloaded - look for the 'download options' link.\n",
    "\n",
    "### 3. Bank of Canada daily average exchange rates \\*\n",
    "\n",
    "This dataset contains the daily average exchange rates for multiple foreign currencies. Exchange rates are expressed as 1 unit of the foreign currency converted into Canadian dollars. It includes only the latest four years of data, and the rates are published once each business day by 16:30 ET.\n",
    "\n",
    "For this assignment you will use a snapshot of this dataset with only the USD-CAD exchange rates included (see next section). We have also prepared a monthly averaged version which you will be using below.\n",
    "\n",
    "A brief description of this dataset and the original dataset can be obtained from the Bank of Canada Data Portal at:\n",
    "[https://www.bankofcanada.ca/rates/exchange/daily-exchange-rates/](https://www.bankofcanada.ca/rates/exchange/daily-exchange-rates/?utm_medium=Exinfluencer&utm_source=Exinfluencer&utm_content=000026UJ&utm_term=10006555&utm_id=NA-SkillsNetwork-Channel-SkillsNetworkCoursesIBMRP0203ENSkillsNetwork23863830-2022-01-01)\n",
    "\n",
    "( \\* these datasets are the same as the ones you used in the practice lab)\n"
   ]
  },
  {
   "cell_type": "markdown",
   "metadata": {},
   "source": [
    "### Dataset URLs\n",
    "\n",
    "1.  Annual Crop Data: <https://cf-courses-data.s3.us.cloud-object-storage.appdomain.cloud/IBM-RP0203EN-SkillsNetwork/labs/Final%20Project/Annual_Crop_Data.csv>\n",
    "\n",
    "2.  Farm product prices: <https://cf-courses-data.s3.us.cloud-object-storage.appdomain.cloud/IBM-RP0203EN-SkillsNetwork/labs/Final%20Project/Monthly_Farm_Prices.csv>\n",
    "\n",
    "3.  Daily FX Data: <https://cf-courses-data.s3.us.cloud-object-storage.appdomain.cloud/IBM-RP0203EN-SkillsNetwork/labs/Final%20Project/Daily_FX.csv>\n",
    "\n",
    "4.  Monthly FX Data: <https://cf-courses-data.s3.us.cloud-object-storage.appdomain.cloud/IBM-RP0203EN-SkillsNetwork/labs/Final%20Project/Monthly_FX.csv>\n",
    "\n",
    "<span style=\"color:red\">**IMPORTANT:**</span> You will be loading these datasets directly into R data frames from these URLs instead of from the StatsCan and Bank of Canada portals. The versions provided at these URLs are simplified and subsetted versions of the original datasets.\n"
   ]
  },
  {
   "cell_type": "markdown",
   "metadata": {},
   "source": [
    "#### Now let's load these datasets into four separate Db2 tables.\n",
    "\n",
    "Let's first load the RODBC package:\n"
   ]
  },
  {
   "cell_type": "code",
   "execution_count": 1,
   "metadata": {},
   "outputs": [],
   "source": [
    "library(RODBC)"
   ]
  },
  {
   "cell_type": "markdown",
   "metadata": {},
   "source": [
    "## Problem 1\n",
    "\n",
    "#### Create tables\n",
    "\n",
    "Establish a connection to the Db2 database, and create the following four tables using the RODBC package in R.\n",
    "Use the separate cells provided below to create each of your tables.\n",
    "\n",
    "1.  **CROP_DATA**\n",
    "2.  **FARM_PRICES**\n",
    "3.  **DAILY_FX**\n",
    "4.  **MONTHLY_FX**\n",
    "\n",
    "The previous practice lab will help you accomplish this.\n"
   ]
  },
  {
   "cell_type": "markdown",
   "metadata": {},
   "source": [
    "### Solution 1\n"
   ]
  },
  {
   "cell_type": "code",
   "execution_count": 2,
   "metadata": {},
   "outputs": [
    {
     "data": {
      "text/html": [
       "<strong>DBMS_Name:</strong> 'DB2/LINUXX8664'"
      ],
      "text/latex": [
       "\\textbf{DBMS\\textbackslash{}\\_Name:} 'DB2/LINUXX8664'"
      ],
      "text/markdown": [
       "**DBMS_Name:** 'DB2/LINUXX8664'"
      ],
      "text/plain": [
       "       DBMS_Name \n",
       "\"DB2/LINUXX8664\" "
      ]
     },
     "metadata": {},
     "output_type": "display_data"
    },
    {
     "data": {
      "text/html": [
       "<strong>DBMS_Ver:</strong> '11.05.0700'"
      ],
      "text/latex": [
       "\\textbf{DBMS\\textbackslash{}\\_Ver:} '11.05.0700'"
      ],
      "text/markdown": [
       "**DBMS_Ver:** '11.05.0700'"
      ],
      "text/plain": [
       "    DBMS_Ver \n",
       "\"11.05.0700\" "
      ]
     },
     "metadata": {},
     "output_type": "display_data"
    },
    {
     "data": {
      "text/html": [
       "<strong>Driver_ODBC_Ver:</strong> '03.51'"
      ],
      "text/latex": [
       "\\textbf{Driver\\textbackslash{}\\_ODBC\\textbackslash{}\\_Ver:} '03.51'"
      ],
      "text/markdown": [
       "**Driver_ODBC_Ver:** '03.51'"
      ],
      "text/plain": [
       "Driver_ODBC_Ver \n",
       "        \"03.51\" "
      ]
     },
     "metadata": {},
     "output_type": "display_data"
    }
   ],
   "source": [
    "# Establish database connection\n",
    "    dsn_driver <- \"{IBM DB2 ODBC Driver}\"\n",
    "    dsn_database <- \"bludb\"            # e.g. \"bludb\"\n",
    "    dsn_hostname <- \"125f9f61-9715-46f9-9399-c8177b21803b.c1ogj3sd0tgtu0lqde00.databases.appdomain.cloud\" # e.g \"54a2f15b-5c0f-46df-8954-.databases.appdomain.cloud\"\n",
    "    dsn_port <- \"30426\"   # e.g. \"32733\" \n",
    "    dsn_protocol <- \"TCPIP\"            # i.e. \"TCPIP\"\n",
    "    dsn_uid <- \"hcf24879\"        # e.g. \"zjh17769\"\n",
    "    dsn_pwd <- \"28O5fqo0nx6gk6iQ\"      # e.g. \"zcwd4+8gbq9bm5k4\"  \n",
    "    dsn_security <- \"ssl\"\n",
    "\n",
    "    conn_path <- paste(\"DRIVER=\",dsn_driver,\n",
    "                  \";DATABASE=\",dsn_database,\n",
    "                  \";HOSTNAME=\",dsn_hostname,\n",
    "                  \";PORT=\",dsn_port,\n",
    "                  \";PROTOCOL=\",dsn_protocol,\n",
    "                  \";UID=\",dsn_uid,\n",
    "                  \";PWD=\",dsn_pwd,\n",
    "                  \";SECURITY=\",dsn_security,        \n",
    "                    sep=\"\")\n",
    "    conn <- odbcDriverConnect(conn_path)\n",
    "\n",
    "    # Dump connection info\n",
    "    ##############################################################\n",
    "    sql.info <- sqlTypeInfo(conn)\n",
    "    conn.info <- odbcGetInfo(conn)\n",
    "    conn.info[\"DBMS_Name\"]\n",
    "    conn.info[\"DBMS_Ver\"]\n",
    "    conn.info[\"Driver_ODBC_Ver\"]"
   ]
  },
  {
   "cell_type": "code",
   "execution_count": 3,
   "metadata": {},
   "outputs": [
    {
     "name": "stdout",
     "output_type": "stream",
     "text": [
      "Table was created successfully.\n"
     ]
    }
   ],
   "source": [
    "# CROP_DATA:\n",
    "\n",
    "    df1 <- sqlQuery(conn, \"CREATE TABLE CROP_DATA (\n",
    "                                      CD_ID INTEGER NOT NULL,\n",
    "                                      YEAR DATE NOT NULL,\n",
    "                                      CROP_TYPE VARCHAR(20) NOT NULL,\n",
    "                                      GEO VARCHAR(20) NOT NULL, \n",
    "                                      SEEDED_AREA INTEGER NOT NULL,\n",
    "                                      HARVESTED_AREA INTEGER NOT NULL,\n",
    "                                      PRODUCTION INTEGER NOT NULL,\n",
    "                                      AVG_YIELD INTEGER NOT NULL,\n",
    "                                      PRIMARY KEY (CD_ID)\n",
    "                                      )\", \n",
    "                    errors=FALSE\n",
    "                    )\n",
    "\n",
    "    if (df1 == -1){\n",
    "        cat (\"An error has occurred.\\n\")\n",
    "        msg <- odbcGetErrMsg(conn)\n",
    "        print (msg)\n",
    "    } else {\n",
    "        cat (\"Table was created successfully.\\n\")\n",
    "    }"
   ]
  },
  {
   "cell_type": "code",
   "execution_count": 4,
   "metadata": {},
   "outputs": [
    {
     "name": "stdout",
     "output_type": "stream",
     "text": [
      "Table was created successfully.\n"
     ]
    }
   ],
   "source": [
    "# FARM_PRICES:\n",
    "\n",
    "df2 <- sqlQuery(conn, \"CREATE TABLE FARM_PRICES (\n",
    "                                CD_ID INTEGER NOT NULL,\n",
    "                                DATE DATE NOT NULL,\n",
    "                                CROP_TYPE VARCHAR(20) NOT NULL,\n",
    "                                GEO VARCHAR(20) NOT NULL,\n",
    "                                PRICE_PRERMT FLOAT(6),\n",
    "                                PRIMARY KEY (CD_ID)\n",
    "                                )\",\n",
    "                    errors=FALSE\n",
    "                    )\n",
    "\n",
    "    if (df2 == -1){\n",
    "        cat (\"An error has occurred.\\n\")\n",
    "        msg <- odbcGetErrMsg(conn)\n",
    "        print (msg)\n",
    "    } else {\n",
    "        cat (\"Table was created successfully.\\n\")\n",
    "    }"
   ]
  },
  {
   "cell_type": "code",
   "execution_count": 5,
   "metadata": {},
   "outputs": [
    {
     "name": "stdout",
     "output_type": "stream",
     "text": [
      "Table was created successfully.\n"
     ]
    }
   ],
   "source": [
    "# DAILY_FX:\n",
    "\n",
    "df3 <- sqlQuery(conn, \"CREATE TABLE DAILY_FX (\n",
    "                                DFX_ID INTEGER NOT NULL,\n",
    "                                DATE DATE NOT NULL, \n",
    "                                FXUSDCAD FLOAT(6),\n",
    "                                PRIMARY KEY (DFX_ID)\n",
    "                                )\",\n",
    "                    errors=FALSE\n",
    "                    )\n",
    "\n",
    "    if (df3 == -1){\n",
    "        cat (\"An error has occurred.\\n\")\n",
    "        msg <- odbcGetErrMsg(conn)\n",
    "        print (msg)\n",
    "    } else {\n",
    "        cat (\"Table was created successfully.\\n\")\n",
    "    }"
   ]
  },
  {
   "cell_type": "code",
   "execution_count": 6,
   "metadata": {},
   "outputs": [
    {
     "name": "stdout",
     "output_type": "stream",
     "text": [
      "Table was created successfully.\n"
     ]
    }
   ],
   "source": [
    "# MONTHLY_FX:\n",
    "\n",
    "df4 <- sqlQuery(conn, \"CREATE TABLE MONTHLY_FX (\n",
    "                                DFX_ID INTEGER NOT NULL,\n",
    "                                DATE DATE NOT NULL, \n",
    "                                FXUSDCAD FLOAT(6),\n",
    "                                PRIMARY KEY (DFX_ID)\n",
    "                                )\",\n",
    "                    errors=FALSE\n",
    "                    )\n",
    "\n",
    "    if (df4 == -1){\n",
    "        cat (\"An error has occurred.\\n\")\n",
    "        msg <- odbcGetErrMsg(conn)\n",
    "        print (msg)\n",
    "    } else {\n",
    "        cat (\"Table was created successfully.\\n\")\n",
    "    }"
   ]
  },
  {
   "cell_type": "markdown",
   "metadata": {},
   "source": [
    "## Problem 2\n",
    "\n",
    "#### Read Datasets and Load Tables\n",
    "\n",
    "Read the datasets into R dataframes using the urls provided above. Then load your tables.\n"
   ]
  },
  {
   "cell_type": "markdown",
   "metadata": {},
   "source": [
    "### Solution 2\n"
   ]
  },
  {
   "cell_type": "code",
   "execution_count": 7,
   "metadata": {},
   "outputs": [
    {
     "data": {
      "text/html": [
       "<table>\n",
       "<caption>A data.frame: 6 × 8</caption>\n",
       "<thead>\n",
       "\t<tr><th></th><th scope=col>CD_ID</th><th scope=col>YEAR</th><th scope=col>CROP_TYPE</th><th scope=col>GEO</th><th scope=col>SEEDED_AREA</th><th scope=col>HARVESTED_AREA</th><th scope=col>PRODUCTION</th><th scope=col>AVG_YIELD</th></tr>\n",
       "\t<tr><th></th><th scope=col>&lt;int&gt;</th><th scope=col>&lt;chr&gt;</th><th scope=col>&lt;fct&gt;</th><th scope=col>&lt;fct&gt;</th><th scope=col>&lt;int&gt;</th><th scope=col>&lt;int&gt;</th><th scope=col>&lt;int&gt;</th><th scope=col>&lt;int&gt;</th></tr>\n",
       "</thead>\n",
       "<tbody>\n",
       "\t<tr><th scope=row>1</th><td>0</td><td>1965-12-31</td><td>Barley</td><td>Alberta     </td><td>1372000</td><td>1372000</td><td>2504000</td><td>1825</td></tr>\n",
       "\t<tr><th scope=row>2</th><td>1</td><td>1965-12-31</td><td>Barley</td><td>Canada      </td><td>2476800</td><td>2476800</td><td>4752900</td><td>1920</td></tr>\n",
       "\t<tr><th scope=row>3</th><td>2</td><td>1965-12-31</td><td>Barley</td><td>Saskatchewan</td><td> 708000</td><td> 708000</td><td>1415000</td><td>2000</td></tr>\n",
       "\t<tr><th scope=row>4</th><td>3</td><td>1965-12-31</td><td>Canola</td><td>Alberta     </td><td> 297400</td><td> 297400</td><td> 215500</td><td> 725</td></tr>\n",
       "\t<tr><th scope=row>5</th><td>4</td><td>1965-12-31</td><td>Canola</td><td>Canada      </td><td> 580700</td><td> 580700</td><td> 512600</td><td> 885</td></tr>\n",
       "\t<tr><th scope=row>6</th><td>5</td><td>1965-12-31</td><td>Canola</td><td>Saskatchewan</td><td> 224600</td><td> 224600</td><td> 242700</td><td>1080</td></tr>\n",
       "</tbody>\n",
       "</table>\n"
      ],
      "text/latex": [
       "A data.frame: 6 × 8\n",
       "\\begin{tabular}{r|llllllll}\n",
       "  & CD\\_ID & YEAR & CROP\\_TYPE & GEO & SEEDED\\_AREA & HARVESTED\\_AREA & PRODUCTION & AVG\\_YIELD\\\\\n",
       "  & <int> & <chr> & <fct> & <fct> & <int> & <int> & <int> & <int>\\\\\n",
       "\\hline\n",
       "\t1 & 0 & 1965-12-31 & Barley & Alberta      & 1372000 & 1372000 & 2504000 & 1825\\\\\n",
       "\t2 & 1 & 1965-12-31 & Barley & Canada       & 2476800 & 2476800 & 4752900 & 1920\\\\\n",
       "\t3 & 2 & 1965-12-31 & Barley & Saskatchewan &  708000 &  708000 & 1415000 & 2000\\\\\n",
       "\t4 & 3 & 1965-12-31 & Canola & Alberta      &  297400 &  297400 &  215500 &  725\\\\\n",
       "\t5 & 4 & 1965-12-31 & Canola & Canada       &  580700 &  580700 &  512600 &  885\\\\\n",
       "\t6 & 5 & 1965-12-31 & Canola & Saskatchewan &  224600 &  224600 &  242700 & 1080\\\\\n",
       "\\end{tabular}\n"
      ],
      "text/markdown": [
       "\n",
       "A data.frame: 6 × 8\n",
       "\n",
       "| <!--/--> | CD_ID &lt;int&gt; | YEAR &lt;chr&gt; | CROP_TYPE &lt;fct&gt; | GEO &lt;fct&gt; | SEEDED_AREA &lt;int&gt; | HARVESTED_AREA &lt;int&gt; | PRODUCTION &lt;int&gt; | AVG_YIELD &lt;int&gt; |\n",
       "|---|---|---|---|---|---|---|---|---|\n",
       "| 1 | 0 | 1965-12-31 | Barley | Alberta      | 1372000 | 1372000 | 2504000 | 1825 |\n",
       "| 2 | 1 | 1965-12-31 | Barley | Canada       | 2476800 | 2476800 | 4752900 | 1920 |\n",
       "| 3 | 2 | 1965-12-31 | Barley | Saskatchewan |  708000 |  708000 | 1415000 | 2000 |\n",
       "| 4 | 3 | 1965-12-31 | Canola | Alberta      |  297400 |  297400 |  215500 |  725 |\n",
       "| 5 | 4 | 1965-12-31 | Canola | Canada       |  580700 |  580700 |  512600 |  885 |\n",
       "| 6 | 5 | 1965-12-31 | Canola | Saskatchewan |  224600 |  224600 |  242700 | 1080 |\n",
       "\n"
      ],
      "text/plain": [
       "  CD_ID YEAR       CROP_TYPE GEO          SEEDED_AREA HARVESTED_AREA PRODUCTION\n",
       "1 0     1965-12-31 Barley    Alberta      1372000     1372000        2504000   \n",
       "2 1     1965-12-31 Barley    Canada       2476800     2476800        4752900   \n",
       "3 2     1965-12-31 Barley    Saskatchewan  708000      708000        1415000   \n",
       "4 3     1965-12-31 Canola    Alberta       297400      297400         215500   \n",
       "5 4     1965-12-31 Canola    Canada        580700      580700         512600   \n",
       "6 5     1965-12-31 Canola    Saskatchewan  224600      224600         242700   \n",
       "  AVG_YIELD\n",
       "1 1825     \n",
       "2 1920     \n",
       "3 2000     \n",
       "4  725     \n",
       "5  885     \n",
       "6 1080     "
      ]
     },
     "metadata": {},
     "output_type": "display_data"
    },
    {
     "data": {
      "text/html": [
       "<table>\n",
       "<caption>A data.frame: 6 × 5</caption>\n",
       "<thead>\n",
       "\t<tr><th></th><th scope=col>CD_ID</th><th scope=col>DATE</th><th scope=col>CROP_TYPE</th><th scope=col>GEO</th><th scope=col>PRICE_PRERMT</th></tr>\n",
       "\t<tr><th></th><th scope=col>&lt;int&gt;</th><th scope=col>&lt;chr&gt;</th><th scope=col>&lt;fct&gt;</th><th scope=col>&lt;fct&gt;</th><th scope=col>&lt;dbl&gt;</th></tr>\n",
       "</thead>\n",
       "<tbody>\n",
       "\t<tr><th scope=row>1</th><td>0</td><td>1985-01-01</td><td>Barley</td><td>Alberta     </td><td>127.39</td></tr>\n",
       "\t<tr><th scope=row>2</th><td>1</td><td>1985-01-01</td><td>Barley</td><td>Saskatchewan</td><td>121.38</td></tr>\n",
       "\t<tr><th scope=row>3</th><td>2</td><td>1985-01-01</td><td>Canola</td><td>Alberta     </td><td>342.00</td></tr>\n",
       "\t<tr><th scope=row>4</th><td>3</td><td>1985-01-01</td><td>Canola</td><td>Saskatchewan</td><td>339.82</td></tr>\n",
       "\t<tr><th scope=row>5</th><td>4</td><td>1985-01-01</td><td>Rye   </td><td>Alberta     </td><td>100.77</td></tr>\n",
       "\t<tr><th scope=row>6</th><td>5</td><td>1985-01-01</td><td>Rye   </td><td>Saskatchewan</td><td>109.75</td></tr>\n",
       "</tbody>\n",
       "</table>\n"
      ],
      "text/latex": [
       "A data.frame: 6 × 5\n",
       "\\begin{tabular}{r|lllll}\n",
       "  & CD\\_ID & DATE & CROP\\_TYPE & GEO & PRICE\\_PRERMT\\\\\n",
       "  & <int> & <chr> & <fct> & <fct> & <dbl>\\\\\n",
       "\\hline\n",
       "\t1 & 0 & 1985-01-01 & Barley & Alberta      & 127.39\\\\\n",
       "\t2 & 1 & 1985-01-01 & Barley & Saskatchewan & 121.38\\\\\n",
       "\t3 & 2 & 1985-01-01 & Canola & Alberta      & 342.00\\\\\n",
       "\t4 & 3 & 1985-01-01 & Canola & Saskatchewan & 339.82\\\\\n",
       "\t5 & 4 & 1985-01-01 & Rye    & Alberta      & 100.77\\\\\n",
       "\t6 & 5 & 1985-01-01 & Rye    & Saskatchewan & 109.75\\\\\n",
       "\\end{tabular}\n"
      ],
      "text/markdown": [
       "\n",
       "A data.frame: 6 × 5\n",
       "\n",
       "| <!--/--> | CD_ID &lt;int&gt; | DATE &lt;chr&gt; | CROP_TYPE &lt;fct&gt; | GEO &lt;fct&gt; | PRICE_PRERMT &lt;dbl&gt; |\n",
       "|---|---|---|---|---|---|\n",
       "| 1 | 0 | 1985-01-01 | Barley | Alberta      | 127.39 |\n",
       "| 2 | 1 | 1985-01-01 | Barley | Saskatchewan | 121.38 |\n",
       "| 3 | 2 | 1985-01-01 | Canola | Alberta      | 342.00 |\n",
       "| 4 | 3 | 1985-01-01 | Canola | Saskatchewan | 339.82 |\n",
       "| 5 | 4 | 1985-01-01 | Rye    | Alberta      | 100.77 |\n",
       "| 6 | 5 | 1985-01-01 | Rye    | Saskatchewan | 109.75 |\n",
       "\n"
      ],
      "text/plain": [
       "  CD_ID DATE       CROP_TYPE GEO          PRICE_PRERMT\n",
       "1 0     1985-01-01 Barley    Alberta      127.39      \n",
       "2 1     1985-01-01 Barley    Saskatchewan 121.38      \n",
       "3 2     1985-01-01 Canola    Alberta      342.00      \n",
       "4 3     1985-01-01 Canola    Saskatchewan 339.82      \n",
       "5 4     1985-01-01 Rye       Alberta      100.77      \n",
       "6 5     1985-01-01 Rye       Saskatchewan 109.75      "
      ]
     },
     "metadata": {},
     "output_type": "display_data"
    },
    {
     "data": {
      "text/html": [
       "<table>\n",
       "<caption>A data.frame: 6 × 3</caption>\n",
       "<thead>\n",
       "\t<tr><th></th><th scope=col>DFX_ID</th><th scope=col>DATE</th><th scope=col>FXUSDCAD</th></tr>\n",
       "\t<tr><th></th><th scope=col>&lt;int&gt;</th><th scope=col>&lt;chr&gt;</th><th scope=col>&lt;dbl&gt;</th></tr>\n",
       "</thead>\n",
       "<tbody>\n",
       "\t<tr><th scope=row>1</th><td>0</td><td>2017-01-03</td><td>1.3435</td></tr>\n",
       "\t<tr><th scope=row>2</th><td>1</td><td>2017-01-04</td><td>1.3315</td></tr>\n",
       "\t<tr><th scope=row>3</th><td>2</td><td>2017-01-05</td><td>1.3244</td></tr>\n",
       "\t<tr><th scope=row>4</th><td>3</td><td>2017-01-06</td><td>1.3214</td></tr>\n",
       "\t<tr><th scope=row>5</th><td>4</td><td>2017-01-09</td><td>1.3240</td></tr>\n",
       "\t<tr><th scope=row>6</th><td>5</td><td>2017-01-10</td><td>1.3213</td></tr>\n",
       "</tbody>\n",
       "</table>\n"
      ],
      "text/latex": [
       "A data.frame: 6 × 3\n",
       "\\begin{tabular}{r|lll}\n",
       "  & DFX\\_ID & DATE & FXUSDCAD\\\\\n",
       "  & <int> & <chr> & <dbl>\\\\\n",
       "\\hline\n",
       "\t1 & 0 & 2017-01-03 & 1.3435\\\\\n",
       "\t2 & 1 & 2017-01-04 & 1.3315\\\\\n",
       "\t3 & 2 & 2017-01-05 & 1.3244\\\\\n",
       "\t4 & 3 & 2017-01-06 & 1.3214\\\\\n",
       "\t5 & 4 & 2017-01-09 & 1.3240\\\\\n",
       "\t6 & 5 & 2017-01-10 & 1.3213\\\\\n",
       "\\end{tabular}\n"
      ],
      "text/markdown": [
       "\n",
       "A data.frame: 6 × 3\n",
       "\n",
       "| <!--/--> | DFX_ID &lt;int&gt; | DATE &lt;chr&gt; | FXUSDCAD &lt;dbl&gt; |\n",
       "|---|---|---|---|\n",
       "| 1 | 0 | 2017-01-03 | 1.3435 |\n",
       "| 2 | 1 | 2017-01-04 | 1.3315 |\n",
       "| 3 | 2 | 2017-01-05 | 1.3244 |\n",
       "| 4 | 3 | 2017-01-06 | 1.3214 |\n",
       "| 5 | 4 | 2017-01-09 | 1.3240 |\n",
       "| 6 | 5 | 2017-01-10 | 1.3213 |\n",
       "\n"
      ],
      "text/plain": [
       "  DFX_ID DATE       FXUSDCAD\n",
       "1 0      2017-01-03 1.3435  \n",
       "2 1      2017-01-04 1.3315  \n",
       "3 2      2017-01-05 1.3244  \n",
       "4 3      2017-01-06 1.3214  \n",
       "5 4      2017-01-09 1.3240  \n",
       "6 5      2017-01-10 1.3213  "
      ]
     },
     "metadata": {},
     "output_type": "display_data"
    },
    {
     "data": {
      "text/html": [
       "<table>\n",
       "<caption>A data.frame: 6 × 3</caption>\n",
       "<thead>\n",
       "\t<tr><th></th><th scope=col>DFX_ID</th><th scope=col>DATE</th><th scope=col>FXUSDCAD</th></tr>\n",
       "\t<tr><th></th><th scope=col>&lt;int&gt;</th><th scope=col>&lt;chr&gt;</th><th scope=col>&lt;dbl&gt;</th></tr>\n",
       "</thead>\n",
       "<tbody>\n",
       "\t<tr><th scope=row>1</th><td>0</td><td>2017-01-01</td><td>1.319276</td></tr>\n",
       "\t<tr><th scope=row>2</th><td>1</td><td>2017-02-01</td><td>1.310726</td></tr>\n",
       "\t<tr><th scope=row>3</th><td>2</td><td>2017-03-01</td><td>1.338643</td></tr>\n",
       "\t<tr><th scope=row>4</th><td>3</td><td>2017-04-01</td><td>1.344021</td></tr>\n",
       "\t<tr><th scope=row>5</th><td>4</td><td>2017-05-01</td><td>1.360705</td></tr>\n",
       "\t<tr><th scope=row>6</th><td>5</td><td>2017-06-01</td><td>1.329805</td></tr>\n",
       "</tbody>\n",
       "</table>\n"
      ],
      "text/latex": [
       "A data.frame: 6 × 3\n",
       "\\begin{tabular}{r|lll}\n",
       "  & DFX\\_ID & DATE & FXUSDCAD\\\\\n",
       "  & <int> & <chr> & <dbl>\\\\\n",
       "\\hline\n",
       "\t1 & 0 & 2017-01-01 & 1.319276\\\\\n",
       "\t2 & 1 & 2017-02-01 & 1.310726\\\\\n",
       "\t3 & 2 & 2017-03-01 & 1.338643\\\\\n",
       "\t4 & 3 & 2017-04-01 & 1.344021\\\\\n",
       "\t5 & 4 & 2017-05-01 & 1.360705\\\\\n",
       "\t6 & 5 & 2017-06-01 & 1.329805\\\\\n",
       "\\end{tabular}\n"
      ],
      "text/markdown": [
       "\n",
       "A data.frame: 6 × 3\n",
       "\n",
       "| <!--/--> | DFX_ID &lt;int&gt; | DATE &lt;chr&gt; | FXUSDCAD &lt;dbl&gt; |\n",
       "|---|---|---|---|\n",
       "| 1 | 0 | 2017-01-01 | 1.319276 |\n",
       "| 2 | 1 | 2017-02-01 | 1.310726 |\n",
       "| 3 | 2 | 2017-03-01 | 1.338643 |\n",
       "| 4 | 3 | 2017-04-01 | 1.344021 |\n",
       "| 5 | 4 | 2017-05-01 | 1.360705 |\n",
       "| 6 | 5 | 2017-06-01 | 1.329805 |\n",
       "\n"
      ],
      "text/plain": [
       "  DFX_ID DATE       FXUSDCAD\n",
       "1 0      2017-01-01 1.319276\n",
       "2 1      2017-02-01 1.310726\n",
       "3 2      2017-03-01 1.338643\n",
       "4 3      2017-04-01 1.344021\n",
       "5 4      2017-05-01 1.360705\n",
       "6 5      2017-06-01 1.329805"
      ]
     },
     "metadata": {},
     "output_type": "display_data"
    }
   ],
   "source": [
    "crop_df <- read.csv('https://cf-courses-data.s3.us.cloud-object-storage.appdomain.cloud/IBM-RP0203EN-SkillsNetwork/labs/Final%20Project/Annual_Crop_Data.csv', colClasses=c(YEAR=\"character\"))\n",
    "farm_pricesdf <- read.csv('https://cf-courses-data.s3.us.cloud-object-storage.appdomain.cloud/IBM-RP0203EN-SkillsNetwork/labs/Final%20Project/Monthly_Farm_Prices.csv', colClasses=c(DATE=\"character\"))\n",
    "daily_fxdf <- read.csv(\"https://cf-courses-data.s3.us.cloud-object-storage.appdomain.cloud/IBM-RP0203EN-SkillsNetwork/labs/Final%20Project/Daily_FX.csv\", colClasses=c(DATE=\"character\"))\n",
    "monthly_fxdf <- read.csv(\"https://cf-courses-data.s3.us.cloud-object-storage.appdomain.cloud/IBM-RP0203EN-SkillsNetwork/labs/Final%20Project/Monthly_FX.csv\", colClasses=c(DATE=\"character\"))\n",
    "\n",
    "head(crop_df)\n",
    "head(farm_pricesdf)\n",
    "head(daily_fxdf)\n",
    "head(monthly_fxdf)\n",
    "\n",
    "sqlSave(conn, crop_df, \"CROP_DATA\", append=TRUE, fast=FALSE, rownames=FALSE, colnames=FALSE, verbose=FALSE)\n",
    "sqlSave(conn, farm_pricesdf, \"FARM_PRICES\", append=TRUE, fast=FALSE, rownames=FALSE, colnames=FALSE, verbose=FALSE)\n",
    "sqlSave(conn, daily_fxdf, \"DAILY_FX\", append=TRUE, fast=FALSE, rownames=FALSE, colnames=FALSE, verbose=FALSE)\n",
    "sqlSave(conn, monthly_fxdf, \"MONTHLY_FX\", append=TRUE, fast=FALSE, rownames=FALSE, colnames=FALSE, verbose=FALSE)"
   ]
  },
  {
   "cell_type": "markdown",
   "metadata": {},
   "source": [
    "## Now execute SQL queries using the RODBC R package to solve the assignment problems.\n",
    "\n",
    "## Problem 3\n",
    "\n",
    "#### How many records are in the farm prices dataset?\n"
   ]
  },
  {
   "cell_type": "markdown",
   "metadata": {},
   "source": [
    "### Solution 3\n"
   ]
  },
  {
   "cell_type": "code",
   "execution_count": 10,
   "metadata": {},
   "outputs": [
    {
     "data": {
      "text/html": [
       "<table>\n",
       "<caption>A data.frame: 1 × 1</caption>\n",
       "<thead>\n",
       "\t<tr><th></th><th scope=col>1</th></tr>\n",
       "\t<tr><th></th><th scope=col>&lt;int&gt;</th></tr>\n",
       "</thead>\n",
       "<tbody>\n",
       "\t<tr><th scope=row>1</th><td>2678</td></tr>\n",
       "</tbody>\n",
       "</table>\n"
      ],
      "text/latex": [
       "A data.frame: 1 × 1\n",
       "\\begin{tabular}{r|l}\n",
       "  & 1\\\\\n",
       "  & <int>\\\\\n",
       "\\hline\n",
       "\t1 & 2678\\\\\n",
       "\\end{tabular}\n"
      ],
      "text/markdown": [
       "\n",
       "A data.frame: 1 × 1\n",
       "\n",
       "| <!--/--> | 1 &lt;int&gt; |\n",
       "|---|---|\n",
       "| 1 | 2678 |\n",
       "\n"
      ],
      "text/plain": [
       "  1   \n",
       "1 2678"
      ]
     },
     "metadata": {},
     "output_type": "display_data"
    }
   ],
   "source": [
    "totalRec_Farm <- \"SELECT COUNT(CD_ID) FROM FARM_PRICES;\"\n",
    "sqlQuery(conn, totalRec_Farm)"
   ]
  },
  {
   "cell_type": "markdown",
   "metadata": {},
   "source": [
    "## Problem 4\n",
    "\n",
    "#### Which geographies are included in the farm prices dataset?\n"
   ]
  },
  {
   "cell_type": "markdown",
   "metadata": {},
   "source": [
    "### Solution 4\n"
   ]
  },
  {
   "cell_type": "code",
   "execution_count": 17,
   "metadata": {},
   "outputs": [
    {
     "data": {
      "text/html": [
       "<table>\n",
       "<caption>A data.frame: 2 × 1</caption>\n",
       "<thead>\n",
       "\t<tr><th></th><th scope=col>GEO</th></tr>\n",
       "\t<tr><th></th><th scope=col>&lt;fct&gt;</th></tr>\n",
       "</thead>\n",
       "<tbody>\n",
       "\t<tr><th scope=row>1</th><td>Alberta     </td></tr>\n",
       "\t<tr><th scope=row>2</th><td>Saskatchewan</td></tr>\n",
       "</tbody>\n",
       "</table>\n"
      ],
      "text/latex": [
       "A data.frame: 2 × 1\n",
       "\\begin{tabular}{r|l}\n",
       "  & GEO\\\\\n",
       "  & <fct>\\\\\n",
       "\\hline\n",
       "\t1 & Alberta     \\\\\n",
       "\t2 & Saskatchewan\\\\\n",
       "\\end{tabular}\n"
      ],
      "text/markdown": [
       "\n",
       "A data.frame: 2 × 1\n",
       "\n",
       "| <!--/--> | GEO &lt;fct&gt; |\n",
       "|---|---|\n",
       "| 1 | Alberta      |\n",
       "| 2 | Saskatchewan |\n",
       "\n"
      ],
      "text/plain": [
       "  GEO         \n",
       "1 Alberta     \n",
       "2 Saskatchewan"
      ]
     },
     "metadata": {},
     "output_type": "display_data"
    }
   ],
   "source": [
    "Geos <- \"SELECT DISTINCT GEO FROM FARM_PRICES;\"\n",
    "sqlQuery(conn, Geos)"
   ]
  },
  {
   "cell_type": "markdown",
   "metadata": {},
   "source": [
    "## Problem 5\n",
    "\n",
    "#### How many hectares of Rye were harvested in Canada in 1968?\n"
   ]
  },
  {
   "cell_type": "markdown",
   "metadata": {},
   "source": [
    "### Solution 5\n"
   ]
  },
  {
   "cell_type": "code",
   "execution_count": 18,
   "metadata": {},
   "outputs": [
    {
     "data": {
      "text/html": [
       "<table>\n",
       "<caption>A data.frame: 1 × 1</caption>\n",
       "<thead>\n",
       "\t<tr><th></th><th scope=col>1</th></tr>\n",
       "\t<tr><th></th><th scope=col>&lt;int&gt;</th></tr>\n",
       "</thead>\n",
       "<tbody>\n",
       "\t<tr><th scope=row>1</th><td>476100</td></tr>\n",
       "</tbody>\n",
       "</table>\n"
      ],
      "text/latex": [
       "A data.frame: 1 × 1\n",
       "\\begin{tabular}{r|l}\n",
       "  & 1\\\\\n",
       "  & <int>\\\\\n",
       "\\hline\n",
       "\t1 & 476100\\\\\n",
       "\\end{tabular}\n"
      ],
      "text/markdown": [
       "\n",
       "A data.frame: 1 × 1\n",
       "\n",
       "| <!--/--> | 1 &lt;int&gt; |\n",
       "|---|---|\n",
       "| 1 | 476100 |\n",
       "\n"
      ],
      "text/plain": [
       "  1     \n",
       "1 476100"
      ]
     },
     "metadata": {},
     "output_type": "display_data"
    }
   ],
   "source": [
    "Rye <- \"SELECT SUM(HARVESTED_AREA) FROM CROP_DATA WHERE CROP_TYPE = 'Rye' AND YEAR = '1968-12-31';\"\n",
    "sqlQuery(conn, Rye)"
   ]
  },
  {
   "cell_type": "markdown",
   "metadata": {},
   "source": [
    "## Problem 6\n",
    "\n",
    "#### Query and display the first 6 rows of the farm prices table for Rye.\n"
   ]
  },
  {
   "cell_type": "markdown",
   "metadata": {},
   "source": [
    "### Solution 6\n"
   ]
  },
  {
   "cell_type": "code",
   "execution_count": 20,
   "metadata": {},
   "outputs": [
    {
     "data": {
      "text/html": [
       "<table>\n",
       "<caption>A data.frame: 6 × 5</caption>\n",
       "<thead>\n",
       "\t<tr><th></th><th scope=col>CD_ID</th><th scope=col>DATE</th><th scope=col>CROP_TYPE</th><th scope=col>GEO</th><th scope=col>PRICE_PRERMT</th></tr>\n",
       "\t<tr><th></th><th scope=col>&lt;int&gt;</th><th scope=col>&lt;date&gt;</th><th scope=col>&lt;fct&gt;</th><th scope=col>&lt;fct&gt;</th><th scope=col>&lt;dbl&gt;</th></tr>\n",
       "</thead>\n",
       "<tbody>\n",
       "\t<tr><th scope=row>1</th><td> 4</td><td>1985-01-01</td><td>Rye</td><td>Alberta     </td><td>100.77</td></tr>\n",
       "\t<tr><th scope=row>2</th><td> 5</td><td>1985-01-01</td><td>Rye</td><td>Saskatchewan</td><td>109.75</td></tr>\n",
       "\t<tr><th scope=row>3</th><td>10</td><td>1985-02-01</td><td>Rye</td><td>Alberta     </td><td> 95.05</td></tr>\n",
       "\t<tr><th scope=row>4</th><td>11</td><td>1985-02-01</td><td>Rye</td><td>Saskatchewan</td><td>103.46</td></tr>\n",
       "\t<tr><th scope=row>5</th><td>16</td><td>1985-03-01</td><td>Rye</td><td>Alberta     </td><td> 96.77</td></tr>\n",
       "\t<tr><th scope=row>6</th><td>17</td><td>1985-03-01</td><td>Rye</td><td>Saskatchewan</td><td>106.38</td></tr>\n",
       "</tbody>\n",
       "</table>\n"
      ],
      "text/latex": [
       "A data.frame: 6 × 5\n",
       "\\begin{tabular}{r|lllll}\n",
       "  & CD\\_ID & DATE & CROP\\_TYPE & GEO & PRICE\\_PRERMT\\\\\n",
       "  & <int> & <date> & <fct> & <fct> & <dbl>\\\\\n",
       "\\hline\n",
       "\t1 &  4 & 1985-01-01 & Rye & Alberta      & 100.77\\\\\n",
       "\t2 &  5 & 1985-01-01 & Rye & Saskatchewan & 109.75\\\\\n",
       "\t3 & 10 & 1985-02-01 & Rye & Alberta      &  95.05\\\\\n",
       "\t4 & 11 & 1985-02-01 & Rye & Saskatchewan & 103.46\\\\\n",
       "\t5 & 16 & 1985-03-01 & Rye & Alberta      &  96.77\\\\\n",
       "\t6 & 17 & 1985-03-01 & Rye & Saskatchewan & 106.38\\\\\n",
       "\\end{tabular}\n"
      ],
      "text/markdown": [
       "\n",
       "A data.frame: 6 × 5\n",
       "\n",
       "| <!--/--> | CD_ID &lt;int&gt; | DATE &lt;date&gt; | CROP_TYPE &lt;fct&gt; | GEO &lt;fct&gt; | PRICE_PRERMT &lt;dbl&gt; |\n",
       "|---|---|---|---|---|---|\n",
       "| 1 |  4 | 1985-01-01 | Rye | Alberta      | 100.77 |\n",
       "| 2 |  5 | 1985-01-01 | Rye | Saskatchewan | 109.75 |\n",
       "| 3 | 10 | 1985-02-01 | Rye | Alberta      |  95.05 |\n",
       "| 4 | 11 | 1985-02-01 | Rye | Saskatchewan | 103.46 |\n",
       "| 5 | 16 | 1985-03-01 | Rye | Alberta      |  96.77 |\n",
       "| 6 | 17 | 1985-03-01 | Rye | Saskatchewan | 106.38 |\n",
       "\n"
      ],
      "text/plain": [
       "  CD_ID DATE       CROP_TYPE GEO          PRICE_PRERMT\n",
       "1  4    1985-01-01 Rye       Alberta      100.77      \n",
       "2  5    1985-01-01 Rye       Saskatchewan 109.75      \n",
       "3 10    1985-02-01 Rye       Alberta       95.05      \n",
       "4 11    1985-02-01 Rye       Saskatchewan 103.46      \n",
       "5 16    1985-03-01 Rye       Alberta       96.77      \n",
       "6 17    1985-03-01 Rye       Saskatchewan 106.38      "
      ]
     },
     "metadata": {},
     "output_type": "display_data"
    }
   ],
   "source": [
    "Rye6 <- \"SELECT * FROM FARM_PRICES WHERE CROP_TYPE = 'Rye' LIMIT 6;;\"\n",
    "sqlQuery(conn, Rye6)"
   ]
  },
  {
   "cell_type": "markdown",
   "metadata": {},
   "source": [
    "## Problem 7\n",
    "\n",
    "#### Which provinces grew Barley?\n"
   ]
  },
  {
   "cell_type": "markdown",
   "metadata": {},
   "source": [
    "### Solution 7\n"
   ]
  },
  {
   "cell_type": "code",
   "execution_count": 22,
   "metadata": {},
   "outputs": [
    {
     "data": {
      "text/html": [
       "<table>\n",
       "<caption>A data.frame: 3 × 2</caption>\n",
       "<thead>\n",
       "\t<tr><th></th><th scope=col>GEO</th><th scope=col>CROP_TYPE</th></tr>\n",
       "\t<tr><th></th><th scope=col>&lt;fct&gt;</th><th scope=col>&lt;fct&gt;</th></tr>\n",
       "</thead>\n",
       "<tbody>\n",
       "\t<tr><th scope=row>1</th><td>Alberta     </td><td>Barley</td></tr>\n",
       "\t<tr><th scope=row>2</th><td>Canada      </td><td>Barley</td></tr>\n",
       "\t<tr><th scope=row>3</th><td>Saskatchewan</td><td>Barley</td></tr>\n",
       "</tbody>\n",
       "</table>\n"
      ],
      "text/latex": [
       "A data.frame: 3 × 2\n",
       "\\begin{tabular}{r|ll}\n",
       "  & GEO & CROP\\_TYPE\\\\\n",
       "  & <fct> & <fct>\\\\\n",
       "\\hline\n",
       "\t1 & Alberta      & Barley\\\\\n",
       "\t2 & Canada       & Barley\\\\\n",
       "\t3 & Saskatchewan & Barley\\\\\n",
       "\\end{tabular}\n"
      ],
      "text/markdown": [
       "\n",
       "A data.frame: 3 × 2\n",
       "\n",
       "| <!--/--> | GEO &lt;fct&gt; | CROP_TYPE &lt;fct&gt; |\n",
       "|---|---|---|\n",
       "| 1 | Alberta      | Barley |\n",
       "| 2 | Canada       | Barley |\n",
       "| 3 | Saskatchewan | Barley |\n",
       "\n"
      ],
      "text/plain": [
       "  GEO          CROP_TYPE\n",
       "1 Alberta      Barley   \n",
       "2 Canada       Barley   \n",
       "3 Saskatchewan Barley   "
      ]
     },
     "metadata": {},
     "output_type": "display_data"
    }
   ],
   "source": [
    "Barley <- \"SELECT DISTINCT GEO, CROP_TYPE FROM CROP_DATA WHERE CROP_TYPE = 'Barley';\"\n",
    "sqlQuery(conn, Barley)"
   ]
  },
  {
   "cell_type": "markdown",
   "metadata": {},
   "source": [
    "## Problem 8\n",
    "\n",
    "#### Find the first and last dates for the farm prices data.\n"
   ]
  },
  {
   "cell_type": "markdown",
   "metadata": {},
   "source": [
    "### Solution 8\n"
   ]
  },
  {
   "cell_type": "code",
   "execution_count": 25,
   "metadata": {},
   "outputs": [
    {
     "data": {
      "text/html": [
       "<table>\n",
       "<caption>A data.frame: 1 × 1</caption>\n",
       "<thead>\n",
       "\t<tr><th></th><th scope=col>1</th></tr>\n",
       "\t<tr><th></th><th scope=col>&lt;date&gt;</th></tr>\n",
       "</thead>\n",
       "<tbody>\n",
       "\t<tr><th scope=row>1</th><td>2020-12-01</td></tr>\n",
       "</tbody>\n",
       "</table>\n"
      ],
      "text/latex": [
       "A data.frame: 1 × 1\n",
       "\\begin{tabular}{r|l}\n",
       "  & 1\\\\\n",
       "  & <date>\\\\\n",
       "\\hline\n",
       "\t1 & 2020-12-01\\\\\n",
       "\\end{tabular}\n"
      ],
      "text/markdown": [
       "\n",
       "A data.frame: 1 × 1\n",
       "\n",
       "| <!--/--> | 1 &lt;date&gt; |\n",
       "|---|---|\n",
       "| 1 | 2020-12-01 |\n",
       "\n"
      ],
      "text/plain": [
       "  1         \n",
       "1 2020-12-01"
      ]
     },
     "metadata": {},
     "output_type": "display_data"
    },
    {
     "data": {
      "text/html": [
       "<table>\n",
       "<caption>A data.frame: 1 × 1</caption>\n",
       "<thead>\n",
       "\t<tr><th></th><th scope=col>1</th></tr>\n",
       "\t<tr><th></th><th scope=col>&lt;date&gt;</th></tr>\n",
       "</thead>\n",
       "<tbody>\n",
       "\t<tr><th scope=row>1</th><td>1985-01-01</td></tr>\n",
       "</tbody>\n",
       "</table>\n"
      ],
      "text/latex": [
       "A data.frame: 1 × 1\n",
       "\\begin{tabular}{r|l}\n",
       "  & 1\\\\\n",
       "  & <date>\\\\\n",
       "\\hline\n",
       "\t1 & 1985-01-01\\\\\n",
       "\\end{tabular}\n"
      ],
      "text/markdown": [
       "\n",
       "A data.frame: 1 × 1\n",
       "\n",
       "| <!--/--> | 1 &lt;date&gt; |\n",
       "|---|---|\n",
       "| 1 | 1985-01-01 |\n",
       "\n"
      ],
      "text/plain": [
       "  1         \n",
       "1 1985-01-01"
      ]
     },
     "metadata": {},
     "output_type": "display_data"
    }
   ],
   "source": [
    "Recent <- \"SELECT MAX(DATE) FROM FARM_PRICES;\"\n",
    "sqlQuery(conn, Recent)\n",
    "\n",
    "Earliest <- \"SELECT MIN(DATE) FROM FARM_PRICES;\"\n",
    "sqlQuery(conn, Earliest)"
   ]
  },
  {
   "cell_type": "markdown",
   "metadata": {},
   "source": [
    "## Problem 9\n",
    "\n",
    "#### Which crops have ever reached a farm price greater than or equal to $350 per metric tonne?\n"
   ]
  },
  {
   "cell_type": "markdown",
   "metadata": {},
   "source": [
    "### Solution 9\n"
   ]
  },
  {
   "cell_type": "code",
   "execution_count": 26,
   "metadata": {},
   "outputs": [
    {
     "data": {
      "text/html": [
       "<table>\n",
       "<caption>A data.frame: 462 × 2</caption>\n",
       "<thead>\n",
       "\t<tr><th></th><th scope=col>CROP_TYPE</th><th scope=col>PRICE_PRERMT</th></tr>\n",
       "\t<tr><th></th><th scope=col>&lt;fct&gt;</th><th scope=col>&lt;dbl&gt;</th></tr>\n",
       "</thead>\n",
       "<tbody>\n",
       "\t<tr><th scope=row>1</th><td>Canola</td><td>350.04</td></tr>\n",
       "\t<tr><th scope=row>2</th><td>Canola</td><td>350.06</td></tr>\n",
       "\t<tr><th scope=row>3</th><td>Canola</td><td>350.14</td></tr>\n",
       "\t<tr><th scope=row>4</th><td>Canola</td><td>350.47</td></tr>\n",
       "\t<tr><th scope=row>5</th><td>Canola</td><td>350.72</td></tr>\n",
       "\t<tr><th scope=row>6</th><td>Canola</td><td>350.78</td></tr>\n",
       "\t<tr><th scope=row>7</th><td>Canola</td><td>351.92</td></tr>\n",
       "\t<tr><th scope=row>8</th><td>Canola</td><td>351.99</td></tr>\n",
       "\t<tr><th scope=row>9</th><td>Canola</td><td>352.03</td></tr>\n",
       "\t<tr><th scope=row>10</th><td>Canola</td><td>352.34</td></tr>\n",
       "\t<tr><th scope=row>11</th><td>Canola</td><td>352.73</td></tr>\n",
       "\t<tr><th scope=row>12</th><td>Canola</td><td>352.81</td></tr>\n",
       "\t<tr><th scope=row>13</th><td>Canola</td><td>352.98</td></tr>\n",
       "\t<tr><th scope=row>14</th><td>Canola</td><td>353.59</td></tr>\n",
       "\t<tr><th scope=row>15</th><td>Canola</td><td>353.90</td></tr>\n",
       "\t<tr><th scope=row>16</th><td>Canola</td><td>353.98</td></tr>\n",
       "\t<tr><th scope=row>17</th><td>Canola</td><td>354.05</td></tr>\n",
       "\t<tr><th scope=row>18</th><td>Canola</td><td>354.13</td></tr>\n",
       "\t<tr><th scope=row>19</th><td>Canola</td><td>354.54</td></tr>\n",
       "\t<tr><th scope=row>20</th><td>Canola</td><td>354.58</td></tr>\n",
       "\t<tr><th scope=row>21</th><td>Canola</td><td>354.82</td></tr>\n",
       "\t<tr><th scope=row>22</th><td>Canola</td><td>355.36</td></tr>\n",
       "\t<tr><th scope=row>23</th><td>Canola</td><td>356.11</td></tr>\n",
       "\t<tr><th scope=row>24</th><td>Canola</td><td>356.69</td></tr>\n",
       "\t<tr><th scope=row>25</th><td>Canola</td><td>357.37</td></tr>\n",
       "\t<tr><th scope=row>26</th><td>Canola</td><td>357.43</td></tr>\n",
       "\t<tr><th scope=row>27</th><td>Canola</td><td>357.67</td></tr>\n",
       "\t<tr><th scope=row>28</th><td>Canola</td><td>358.27</td></tr>\n",
       "\t<tr><th scope=row>29</th><td>Canola</td><td>358.46</td></tr>\n",
       "\t<tr><th scope=row>30</th><td>Canola</td><td>358.52</td></tr>\n",
       "\t<tr><th scope=row>⋮</th><td>⋮</td><td>⋮</td></tr>\n",
       "\t<tr><th scope=row>433</th><td>Canola</td><td>570.75</td></tr>\n",
       "\t<tr><th scope=row>434</th><td>Canola</td><td>571.45</td></tr>\n",
       "\t<tr><th scope=row>435</th><td>Canola</td><td>574.84</td></tr>\n",
       "\t<tr><th scope=row>436</th><td>Canola</td><td>576.80</td></tr>\n",
       "\t<tr><th scope=row>437</th><td>Canola</td><td>577.28</td></tr>\n",
       "\t<tr><th scope=row>438</th><td>Canola</td><td>578.71</td></tr>\n",
       "\t<tr><th scope=row>439</th><td>Canola</td><td>585.80</td></tr>\n",
       "\t<tr><th scope=row>440</th><td>Canola</td><td>586.22</td></tr>\n",
       "\t<tr><th scope=row>441</th><td>Canola</td><td>588.41</td></tr>\n",
       "\t<tr><th scope=row>442</th><td>Canola</td><td>589.14</td></tr>\n",
       "\t<tr><th scope=row>443</th><td>Canola</td><td>592.23</td></tr>\n",
       "\t<tr><th scope=row>444</th><td>Canola</td><td>593.43</td></tr>\n",
       "\t<tr><th scope=row>445</th><td>Canola</td><td>594.09</td></tr>\n",
       "\t<tr><th scope=row>446</th><td>Canola</td><td>594.28</td></tr>\n",
       "\t<tr><th scope=row>447</th><td>Canola</td><td>595.83</td></tr>\n",
       "\t<tr><th scope=row>448</th><td>Canola</td><td>597.17</td></tr>\n",
       "\t<tr><th scope=row>449</th><td>Canola</td><td>600.30</td></tr>\n",
       "\t<tr><th scope=row>450</th><td>Canola</td><td>602.58</td></tr>\n",
       "\t<tr><th scope=row>451</th><td>Canola</td><td>611.97</td></tr>\n",
       "\t<tr><th scope=row>452</th><td>Canola</td><td>614.50</td></tr>\n",
       "\t<tr><th scope=row>453</th><td>Canola</td><td>616.65</td></tr>\n",
       "\t<tr><th scope=row>454</th><td>Canola</td><td>618.98</td></tr>\n",
       "\t<tr><th scope=row>455</th><td>Canola</td><td>630.18</td></tr>\n",
       "\t<tr><th scope=row>456</th><td>Canola</td><td>631.48</td></tr>\n",
       "\t<tr><th scope=row>457</th><td>Canola</td><td>638.68</td></tr>\n",
       "\t<tr><th scope=row>458</th><td>Canola</td><td>639.13</td></tr>\n",
       "\t<tr><th scope=row>459</th><td>Canola</td><td>640.27</td></tr>\n",
       "\t<tr><th scope=row>460</th><td>Canola</td><td>640.65</td></tr>\n",
       "\t<tr><th scope=row>461</th><td>Canola</td><td>646.98</td></tr>\n",
       "\t<tr><th scope=row>462</th><td>Canola</td><td>651.50</td></tr>\n",
       "</tbody>\n",
       "</table>\n"
      ],
      "text/latex": [
       "A data.frame: 462 × 2\n",
       "\\begin{tabular}{r|ll}\n",
       "  & CROP\\_TYPE & PRICE\\_PRERMT\\\\\n",
       "  & <fct> & <dbl>\\\\\n",
       "\\hline\n",
       "\t1 & Canola & 350.04\\\\\n",
       "\t2 & Canola & 350.06\\\\\n",
       "\t3 & Canola & 350.14\\\\\n",
       "\t4 & Canola & 350.47\\\\\n",
       "\t5 & Canola & 350.72\\\\\n",
       "\t6 & Canola & 350.78\\\\\n",
       "\t7 & Canola & 351.92\\\\\n",
       "\t8 & Canola & 351.99\\\\\n",
       "\t9 & Canola & 352.03\\\\\n",
       "\t10 & Canola & 352.34\\\\\n",
       "\t11 & Canola & 352.73\\\\\n",
       "\t12 & Canola & 352.81\\\\\n",
       "\t13 & Canola & 352.98\\\\\n",
       "\t14 & Canola & 353.59\\\\\n",
       "\t15 & Canola & 353.90\\\\\n",
       "\t16 & Canola & 353.98\\\\\n",
       "\t17 & Canola & 354.05\\\\\n",
       "\t18 & Canola & 354.13\\\\\n",
       "\t19 & Canola & 354.54\\\\\n",
       "\t20 & Canola & 354.58\\\\\n",
       "\t21 & Canola & 354.82\\\\\n",
       "\t22 & Canola & 355.36\\\\\n",
       "\t23 & Canola & 356.11\\\\\n",
       "\t24 & Canola & 356.69\\\\\n",
       "\t25 & Canola & 357.37\\\\\n",
       "\t26 & Canola & 357.43\\\\\n",
       "\t27 & Canola & 357.67\\\\\n",
       "\t28 & Canola & 358.27\\\\\n",
       "\t29 & Canola & 358.46\\\\\n",
       "\t30 & Canola & 358.52\\\\\n",
       "\t⋮ & ⋮ & ⋮\\\\\n",
       "\t433 & Canola & 570.75\\\\\n",
       "\t434 & Canola & 571.45\\\\\n",
       "\t435 & Canola & 574.84\\\\\n",
       "\t436 & Canola & 576.80\\\\\n",
       "\t437 & Canola & 577.28\\\\\n",
       "\t438 & Canola & 578.71\\\\\n",
       "\t439 & Canola & 585.80\\\\\n",
       "\t440 & Canola & 586.22\\\\\n",
       "\t441 & Canola & 588.41\\\\\n",
       "\t442 & Canola & 589.14\\\\\n",
       "\t443 & Canola & 592.23\\\\\n",
       "\t444 & Canola & 593.43\\\\\n",
       "\t445 & Canola & 594.09\\\\\n",
       "\t446 & Canola & 594.28\\\\\n",
       "\t447 & Canola & 595.83\\\\\n",
       "\t448 & Canola & 597.17\\\\\n",
       "\t449 & Canola & 600.30\\\\\n",
       "\t450 & Canola & 602.58\\\\\n",
       "\t451 & Canola & 611.97\\\\\n",
       "\t452 & Canola & 614.50\\\\\n",
       "\t453 & Canola & 616.65\\\\\n",
       "\t454 & Canola & 618.98\\\\\n",
       "\t455 & Canola & 630.18\\\\\n",
       "\t456 & Canola & 631.48\\\\\n",
       "\t457 & Canola & 638.68\\\\\n",
       "\t458 & Canola & 639.13\\\\\n",
       "\t459 & Canola & 640.27\\\\\n",
       "\t460 & Canola & 640.65\\\\\n",
       "\t461 & Canola & 646.98\\\\\n",
       "\t462 & Canola & 651.50\\\\\n",
       "\\end{tabular}\n"
      ],
      "text/markdown": [
       "\n",
       "A data.frame: 462 × 2\n",
       "\n",
       "| <!--/--> | CROP_TYPE &lt;fct&gt; | PRICE_PRERMT &lt;dbl&gt; |\n",
       "|---|---|---|\n",
       "| 1 | Canola | 350.04 |\n",
       "| 2 | Canola | 350.06 |\n",
       "| 3 | Canola | 350.14 |\n",
       "| 4 | Canola | 350.47 |\n",
       "| 5 | Canola | 350.72 |\n",
       "| 6 | Canola | 350.78 |\n",
       "| 7 | Canola | 351.92 |\n",
       "| 8 | Canola | 351.99 |\n",
       "| 9 | Canola | 352.03 |\n",
       "| 10 | Canola | 352.34 |\n",
       "| 11 | Canola | 352.73 |\n",
       "| 12 | Canola | 352.81 |\n",
       "| 13 | Canola | 352.98 |\n",
       "| 14 | Canola | 353.59 |\n",
       "| 15 | Canola | 353.90 |\n",
       "| 16 | Canola | 353.98 |\n",
       "| 17 | Canola | 354.05 |\n",
       "| 18 | Canola | 354.13 |\n",
       "| 19 | Canola | 354.54 |\n",
       "| 20 | Canola | 354.58 |\n",
       "| 21 | Canola | 354.82 |\n",
       "| 22 | Canola | 355.36 |\n",
       "| 23 | Canola | 356.11 |\n",
       "| 24 | Canola | 356.69 |\n",
       "| 25 | Canola | 357.37 |\n",
       "| 26 | Canola | 357.43 |\n",
       "| 27 | Canola | 357.67 |\n",
       "| 28 | Canola | 358.27 |\n",
       "| 29 | Canola | 358.46 |\n",
       "| 30 | Canola | 358.52 |\n",
       "| ⋮ | ⋮ | ⋮ |\n",
       "| 433 | Canola | 570.75 |\n",
       "| 434 | Canola | 571.45 |\n",
       "| 435 | Canola | 574.84 |\n",
       "| 436 | Canola | 576.80 |\n",
       "| 437 | Canola | 577.28 |\n",
       "| 438 | Canola | 578.71 |\n",
       "| 439 | Canola | 585.80 |\n",
       "| 440 | Canola | 586.22 |\n",
       "| 441 | Canola | 588.41 |\n",
       "| 442 | Canola | 589.14 |\n",
       "| 443 | Canola | 592.23 |\n",
       "| 444 | Canola | 593.43 |\n",
       "| 445 | Canola | 594.09 |\n",
       "| 446 | Canola | 594.28 |\n",
       "| 447 | Canola | 595.83 |\n",
       "| 448 | Canola | 597.17 |\n",
       "| 449 | Canola | 600.30 |\n",
       "| 450 | Canola | 602.58 |\n",
       "| 451 | Canola | 611.97 |\n",
       "| 452 | Canola | 614.50 |\n",
       "| 453 | Canola | 616.65 |\n",
       "| 454 | Canola | 618.98 |\n",
       "| 455 | Canola | 630.18 |\n",
       "| 456 | Canola | 631.48 |\n",
       "| 457 | Canola | 638.68 |\n",
       "| 458 | Canola | 639.13 |\n",
       "| 459 | Canola | 640.27 |\n",
       "| 460 | Canola | 640.65 |\n",
       "| 461 | Canola | 646.98 |\n",
       "| 462 | Canola | 651.50 |\n",
       "\n"
      ],
      "text/plain": [
       "    CROP_TYPE PRICE_PRERMT\n",
       "1   Canola    350.04      \n",
       "2   Canola    350.06      \n",
       "3   Canola    350.14      \n",
       "4   Canola    350.47      \n",
       "5   Canola    350.72      \n",
       "6   Canola    350.78      \n",
       "7   Canola    351.92      \n",
       "8   Canola    351.99      \n",
       "9   Canola    352.03      \n",
       "10  Canola    352.34      \n",
       "11  Canola    352.73      \n",
       "12  Canola    352.81      \n",
       "13  Canola    352.98      \n",
       "14  Canola    353.59      \n",
       "15  Canola    353.90      \n",
       "16  Canola    353.98      \n",
       "17  Canola    354.05      \n",
       "18  Canola    354.13      \n",
       "19  Canola    354.54      \n",
       "20  Canola    354.58      \n",
       "21  Canola    354.82      \n",
       "22  Canola    355.36      \n",
       "23  Canola    356.11      \n",
       "24  Canola    356.69      \n",
       "25  Canola    357.37      \n",
       "26  Canola    357.43      \n",
       "27  Canola    357.67      \n",
       "28  Canola    358.27      \n",
       "29  Canola    358.46      \n",
       "30  Canola    358.52      \n",
       "⋮   ⋮         ⋮           \n",
       "433 Canola    570.75      \n",
       "434 Canola    571.45      \n",
       "435 Canola    574.84      \n",
       "436 Canola    576.80      \n",
       "437 Canola    577.28      \n",
       "438 Canola    578.71      \n",
       "439 Canola    585.80      \n",
       "440 Canola    586.22      \n",
       "441 Canola    588.41      \n",
       "442 Canola    589.14      \n",
       "443 Canola    592.23      \n",
       "444 Canola    593.43      \n",
       "445 Canola    594.09      \n",
       "446 Canola    594.28      \n",
       "447 Canola    595.83      \n",
       "448 Canola    597.17      \n",
       "449 Canola    600.30      \n",
       "450 Canola    602.58      \n",
       "451 Canola    611.97      \n",
       "452 Canola    614.50      \n",
       "453 Canola    616.65      \n",
       "454 Canola    618.98      \n",
       "455 Canola    630.18      \n",
       "456 Canola    631.48      \n",
       "457 Canola    638.68      \n",
       "458 Canola    639.13      \n",
       "459 Canola    640.27      \n",
       "460 Canola    640.65      \n",
       "461 Canola    646.98      \n",
       "462 Canola    651.50      "
      ]
     },
     "metadata": {},
     "output_type": "display_data"
    }
   ],
   "source": [
    "MoreThan350 <- \"SELECT DISTINCT CROP_TYPE, PRICE_PRERMT FROM FARM_PRICES WHERE PRICE_PRERMT >= 350;\"\n",
    "sqlQuery(conn, MoreThan350)"
   ]
  },
  {
   "cell_type": "markdown",
   "metadata": {},
   "source": [
    "## Problem 10\n",
    "\n",
    "#### Rank the crop types harvested in Saskatchewan in the year 2000 by their average yield. Which crop performed best?\n"
   ]
  },
  {
   "cell_type": "markdown",
   "metadata": {},
   "source": [
    "### Solution 10\n"
   ]
  },
  {
   "cell_type": "code",
   "execution_count": 28,
   "metadata": {},
   "outputs": [
    {
     "data": {
      "text/html": [
       "<table>\n",
       "<caption>A data.frame: 4 × 4</caption>\n",
       "<thead>\n",
       "\t<tr><th></th><th scope=col>CROP_TYPE</th><th scope=col>GEO</th><th scope=col>HARVESTED_AREA</th><th scope=col>AVG_YIELD</th></tr>\n",
       "\t<tr><th></th><th scope=col>&lt;fct&gt;</th><th scope=col>&lt;fct&gt;</th><th scope=col>&lt;int&gt;</th><th scope=col>&lt;int&gt;</th></tr>\n",
       "</thead>\n",
       "<tbody>\n",
       "\t<tr><th scope=row>1</th><td>Canola</td><td>Saskatchewan</td><td>2371500</td><td>1400</td></tr>\n",
       "\t<tr><th scope=row>2</th><td>Rye   </td><td>Saskatchewan</td><td>  46500</td><td>2100</td></tr>\n",
       "\t<tr><th scope=row>3</th><td>Wheat </td><td>Saskatchewan</td><td>6080300</td><td>2200</td></tr>\n",
       "\t<tr><th scope=row>4</th><td>Barley</td><td>Saskatchewan</td><td>1922300</td><td>2800</td></tr>\n",
       "</tbody>\n",
       "</table>\n"
      ],
      "text/latex": [
       "A data.frame: 4 × 4\n",
       "\\begin{tabular}{r|llll}\n",
       "  & CROP\\_TYPE & GEO & HARVESTED\\_AREA & AVG\\_YIELD\\\\\n",
       "  & <fct> & <fct> & <int> & <int>\\\\\n",
       "\\hline\n",
       "\t1 & Canola & Saskatchewan & 2371500 & 1400\\\\\n",
       "\t2 & Rye    & Saskatchewan &   46500 & 2100\\\\\n",
       "\t3 & Wheat  & Saskatchewan & 6080300 & 2200\\\\\n",
       "\t4 & Barley & Saskatchewan & 1922300 & 2800\\\\\n",
       "\\end{tabular}\n"
      ],
      "text/markdown": [
       "\n",
       "A data.frame: 4 × 4\n",
       "\n",
       "| <!--/--> | CROP_TYPE &lt;fct&gt; | GEO &lt;fct&gt; | HARVESTED_AREA &lt;int&gt; | AVG_YIELD &lt;int&gt; |\n",
       "|---|---|---|---|---|\n",
       "| 1 | Canola | Saskatchewan | 2371500 | 1400 |\n",
       "| 2 | Rye    | Saskatchewan |   46500 | 2100 |\n",
       "| 3 | Wheat  | Saskatchewan | 6080300 | 2200 |\n",
       "| 4 | Barley | Saskatchewan | 1922300 | 2800 |\n",
       "\n"
      ],
      "text/plain": [
       "  CROP_TYPE GEO          HARVESTED_AREA AVG_YIELD\n",
       "1 Canola    Saskatchewan 2371500        1400     \n",
       "2 Rye       Saskatchewan   46500        2100     \n",
       "3 Wheat     Saskatchewan 6080300        2200     \n",
       "4 Barley    Saskatchewan 1922300        2800     "
      ]
     },
     "metadata": {},
     "output_type": "display_data"
    }
   ],
   "source": [
    "Saskatchewan <- \"SELECT CROP_TYPE, GEO, HARVESTED_AREA, AVG_YIELD FROM CROP_DATA WHERE GEO = 'Saskatchewan' AND YEAR LIKE '%2000%' ORDER BY AVG_YIELD;\"\n",
    "sqlQuery(conn, Saskatchewan)"
   ]
  },
  {
   "cell_type": "markdown",
   "metadata": {},
   "source": [
    "## Problem 11\n",
    "\n",
    "#### Rank the crops and geographies by their average yield (KG per hectare) since the year 2000. Which crop and province had the highest average yield since the year 2000?\n"
   ]
  },
  {
   "cell_type": "markdown",
   "metadata": {},
   "source": [
    "### Solution 11\n"
   ]
  },
  {
   "cell_type": "code",
   "execution_count": 31,
   "metadata": {},
   "outputs": [
    {
     "data": {
      "text/html": [
       "<table>\n",
       "<caption>A data.frame: 252 × 3</caption>\n",
       "<thead>\n",
       "\t<tr><th></th><th scope=col>CROP_TYPE</th><th scope=col>GEO</th><th scope=col>AVG_YIELD</th></tr>\n",
       "\t<tr><th></th><th scope=col>&lt;fct&gt;</th><th scope=col>&lt;fct&gt;</th><th scope=col>&lt;int&gt;</th></tr>\n",
       "</thead>\n",
       "<tbody>\n",
       "\t<tr><th scope=row>1</th><td>Canola</td><td>Saskatchewan</td><td>1000</td></tr>\n",
       "\t<tr><th scope=row>2</th><td>Canola</td><td>Saskatchewan</td><td>1100</td></tr>\n",
       "\t<tr><th scope=row>3</th><td>Canola</td><td>Alberta     </td><td>1200</td></tr>\n",
       "\t<tr><th scope=row>4</th><td>Canola</td><td>Canada      </td><td>1200</td></tr>\n",
       "\t<tr><th scope=row>5</th><td>Canola</td><td>Saskatchewan</td><td>1200</td></tr>\n",
       "\t<tr><th scope=row>6</th><td>Canola</td><td>Canada      </td><td>1300</td></tr>\n",
       "\t<tr><th scope=row>7</th><td>Rye   </td><td>Saskatchewan</td><td>1300</td></tr>\n",
       "\t<tr><th scope=row>8</th><td>Canola</td><td>Saskatchewan</td><td>1300</td></tr>\n",
       "\t<tr><th scope=row>9</th><td>Canola</td><td>Saskatchewan</td><td>1400</td></tr>\n",
       "\t<tr><th scope=row>10</th><td>Canola</td><td>Canada      </td><td>1400</td></tr>\n",
       "\t<tr><th scope=row>11</th><td>Canola</td><td>Saskatchewan</td><td>1400</td></tr>\n",
       "\t<tr><th scope=row>12</th><td>Canola</td><td>Saskatchewan</td><td>1400</td></tr>\n",
       "\t<tr><th scope=row>13</th><td>Canola</td><td>Alberta     </td><td>1500</td></tr>\n",
       "\t<tr><th scope=row>14</th><td>Canola</td><td>Canada      </td><td>1500</td></tr>\n",
       "\t<tr><th scope=row>15</th><td>Canola</td><td>Alberta     </td><td>1500</td></tr>\n",
       "\t<tr><th scope=row>16</th><td>Wheat </td><td>Saskatchewan</td><td>1500</td></tr>\n",
       "\t<tr><th scope=row>17</th><td>Canola</td><td>Saskatchewan</td><td>1500</td></tr>\n",
       "\t<tr><th scope=row>18</th><td>Canola</td><td>Canada      </td><td>1500</td></tr>\n",
       "\t<tr><th scope=row>19</th><td>Rye   </td><td>Saskatchewan</td><td>1600</td></tr>\n",
       "\t<tr><th scope=row>20</th><td>Wheat </td><td>Saskatchewan</td><td>1600</td></tr>\n",
       "\t<tr><th scope=row>21</th><td>Rye   </td><td>Alberta     </td><td>1600</td></tr>\n",
       "\t<tr><th scope=row>22</th><td>Canola</td><td>Canada      </td><td>1600</td></tr>\n",
       "\t<tr><th scope=row>23</th><td>Canola</td><td>Canada      </td><td>1600</td></tr>\n",
       "\t<tr><th scope=row>24</th><td>Rye   </td><td>Saskatchewan</td><td>1600</td></tr>\n",
       "\t<tr><th scope=row>25</th><td>Rye   </td><td>Alberta     </td><td>1700</td></tr>\n",
       "\t<tr><th scope=row>26</th><td>Rye   </td><td>Canada      </td><td>1700</td></tr>\n",
       "\t<tr><th scope=row>27</th><td>Canola</td><td>Alberta     </td><td>1700</td></tr>\n",
       "\t<tr><th scope=row>28</th><td>Wheat </td><td>Saskatchewan</td><td>1700</td></tr>\n",
       "\t<tr><th scope=row>29</th><td>Canola</td><td>Canada      </td><td>1700</td></tr>\n",
       "\t<tr><th scope=row>30</th><td>Canola</td><td>Alberta     </td><td>1700</td></tr>\n",
       "\t<tr><th scope=row>⋮</th><td>⋮</td><td>⋮</td><td>⋮</td></tr>\n",
       "\t<tr><th scope=row>223</th><td>Wheat </td><td>Canada      </td><td>3512</td></tr>\n",
       "\t<tr><th scope=row>224</th><td>Wheat </td><td>Alberta     </td><td>3518</td></tr>\n",
       "\t<tr><th scope=row>225</th><td>Barley</td><td>Alberta     </td><td>3595</td></tr>\n",
       "\t<tr><th scope=row>226</th><td>Barley</td><td>Alberta     </td><td>3600</td></tr>\n",
       "\t<tr><th scope=row>227</th><td>Barley</td><td>Alberta     </td><td>3600</td></tr>\n",
       "\t<tr><th scope=row>228</th><td>Barley</td><td>Alberta     </td><td>3600</td></tr>\n",
       "\t<tr><th scope=row>229</th><td>Barley</td><td>Alberta     </td><td>3600</td></tr>\n",
       "\t<tr><th scope=row>230</th><td>Barley</td><td>Saskatchewan</td><td>3600</td></tr>\n",
       "\t<tr><th scope=row>231</th><td>Wheat </td><td>Canada      </td><td>3600</td></tr>\n",
       "\t<tr><th scope=row>232</th><td>Barley</td><td>Alberta     </td><td>3600</td></tr>\n",
       "\t<tr><th scope=row>233</th><td>Wheat </td><td>Canada      </td><td>3600</td></tr>\n",
       "\t<tr><th scope=row>234</th><td>Barley</td><td>Saskatchewan</td><td>3600</td></tr>\n",
       "\t<tr><th scope=row>235</th><td>Barley</td><td>Saskatchewan</td><td>3690</td></tr>\n",
       "\t<tr><th scope=row>236</th><td>Rye   </td><td>Alberta     </td><td>3691</td></tr>\n",
       "\t<tr><th scope=row>237</th><td>Barley</td><td>Alberta     </td><td>3700</td></tr>\n",
       "\t<tr><th scope=row>238</th><td>Barley</td><td>Canada      </td><td>3700</td></tr>\n",
       "\t<tr><th scope=row>239</th><td>Barley</td><td>Saskatchewan</td><td>3730</td></tr>\n",
       "\t<tr><th scope=row>240</th><td>Wheat </td><td>Alberta     </td><td>3750</td></tr>\n",
       "\t<tr><th scope=row>241</th><td>Barley</td><td>Canada      </td><td>3800</td></tr>\n",
       "\t<tr><th scope=row>242</th><td>Barley</td><td>Saskatchewan</td><td>3800</td></tr>\n",
       "\t<tr><th scope=row>243</th><td>Barley</td><td>Canada      </td><td>3810</td></tr>\n",
       "\t<tr><th scope=row>244</th><td>Barley</td><td>Canada      </td><td>3820</td></tr>\n",
       "\t<tr><th scope=row>245</th><td>Barley</td><td>Alberta     </td><td>3890</td></tr>\n",
       "\t<tr><th scope=row>246</th><td>Wheat </td><td>Alberta     </td><td>3900</td></tr>\n",
       "\t<tr><th scope=row>247</th><td>Barley</td><td>Canada      </td><td>3900</td></tr>\n",
       "\t<tr><th scope=row>248</th><td>Wheat </td><td>Alberta     </td><td>3900</td></tr>\n",
       "\t<tr><th scope=row>249</th><td>Barley</td><td>Alberta     </td><td>3900</td></tr>\n",
       "\t<tr><th scope=row>250</th><td>Barley</td><td>Alberta     </td><td>3980</td></tr>\n",
       "\t<tr><th scope=row>251</th><td>Barley</td><td>Alberta     </td><td>4100</td></tr>\n",
       "\t<tr><th scope=row>252</th><td>Barley</td><td>Alberta     </td><td>4100</td></tr>\n",
       "</tbody>\n",
       "</table>\n"
      ],
      "text/latex": [
       "A data.frame: 252 × 3\n",
       "\\begin{tabular}{r|lll}\n",
       "  & CROP\\_TYPE & GEO & AVG\\_YIELD\\\\\n",
       "  & <fct> & <fct> & <int>\\\\\n",
       "\\hline\n",
       "\t1 & Canola & Saskatchewan & 1000\\\\\n",
       "\t2 & Canola & Saskatchewan & 1100\\\\\n",
       "\t3 & Canola & Alberta      & 1200\\\\\n",
       "\t4 & Canola & Canada       & 1200\\\\\n",
       "\t5 & Canola & Saskatchewan & 1200\\\\\n",
       "\t6 & Canola & Canada       & 1300\\\\\n",
       "\t7 & Rye    & Saskatchewan & 1300\\\\\n",
       "\t8 & Canola & Saskatchewan & 1300\\\\\n",
       "\t9 & Canola & Saskatchewan & 1400\\\\\n",
       "\t10 & Canola & Canada       & 1400\\\\\n",
       "\t11 & Canola & Saskatchewan & 1400\\\\\n",
       "\t12 & Canola & Saskatchewan & 1400\\\\\n",
       "\t13 & Canola & Alberta      & 1500\\\\\n",
       "\t14 & Canola & Canada       & 1500\\\\\n",
       "\t15 & Canola & Alberta      & 1500\\\\\n",
       "\t16 & Wheat  & Saskatchewan & 1500\\\\\n",
       "\t17 & Canola & Saskatchewan & 1500\\\\\n",
       "\t18 & Canola & Canada       & 1500\\\\\n",
       "\t19 & Rye    & Saskatchewan & 1600\\\\\n",
       "\t20 & Wheat  & Saskatchewan & 1600\\\\\n",
       "\t21 & Rye    & Alberta      & 1600\\\\\n",
       "\t22 & Canola & Canada       & 1600\\\\\n",
       "\t23 & Canola & Canada       & 1600\\\\\n",
       "\t24 & Rye    & Saskatchewan & 1600\\\\\n",
       "\t25 & Rye    & Alberta      & 1700\\\\\n",
       "\t26 & Rye    & Canada       & 1700\\\\\n",
       "\t27 & Canola & Alberta      & 1700\\\\\n",
       "\t28 & Wheat  & Saskatchewan & 1700\\\\\n",
       "\t29 & Canola & Canada       & 1700\\\\\n",
       "\t30 & Canola & Alberta      & 1700\\\\\n",
       "\t⋮ & ⋮ & ⋮ & ⋮\\\\\n",
       "\t223 & Wheat  & Canada       & 3512\\\\\n",
       "\t224 & Wheat  & Alberta      & 3518\\\\\n",
       "\t225 & Barley & Alberta      & 3595\\\\\n",
       "\t226 & Barley & Alberta      & 3600\\\\\n",
       "\t227 & Barley & Alberta      & 3600\\\\\n",
       "\t228 & Barley & Alberta      & 3600\\\\\n",
       "\t229 & Barley & Alberta      & 3600\\\\\n",
       "\t230 & Barley & Saskatchewan & 3600\\\\\n",
       "\t231 & Wheat  & Canada       & 3600\\\\\n",
       "\t232 & Barley & Alberta      & 3600\\\\\n",
       "\t233 & Wheat  & Canada       & 3600\\\\\n",
       "\t234 & Barley & Saskatchewan & 3600\\\\\n",
       "\t235 & Barley & Saskatchewan & 3690\\\\\n",
       "\t236 & Rye    & Alberta      & 3691\\\\\n",
       "\t237 & Barley & Alberta      & 3700\\\\\n",
       "\t238 & Barley & Canada       & 3700\\\\\n",
       "\t239 & Barley & Saskatchewan & 3730\\\\\n",
       "\t240 & Wheat  & Alberta      & 3750\\\\\n",
       "\t241 & Barley & Canada       & 3800\\\\\n",
       "\t242 & Barley & Saskatchewan & 3800\\\\\n",
       "\t243 & Barley & Canada       & 3810\\\\\n",
       "\t244 & Barley & Canada       & 3820\\\\\n",
       "\t245 & Barley & Alberta      & 3890\\\\\n",
       "\t246 & Wheat  & Alberta      & 3900\\\\\n",
       "\t247 & Barley & Canada       & 3900\\\\\n",
       "\t248 & Wheat  & Alberta      & 3900\\\\\n",
       "\t249 & Barley & Alberta      & 3900\\\\\n",
       "\t250 & Barley & Alberta      & 3980\\\\\n",
       "\t251 & Barley & Alberta      & 4100\\\\\n",
       "\t252 & Barley & Alberta      & 4100\\\\\n",
       "\\end{tabular}\n"
      ],
      "text/markdown": [
       "\n",
       "A data.frame: 252 × 3\n",
       "\n",
       "| <!--/--> | CROP_TYPE &lt;fct&gt; | GEO &lt;fct&gt; | AVG_YIELD &lt;int&gt; |\n",
       "|---|---|---|---|\n",
       "| 1 | Canola | Saskatchewan | 1000 |\n",
       "| 2 | Canola | Saskatchewan | 1100 |\n",
       "| 3 | Canola | Alberta      | 1200 |\n",
       "| 4 | Canola | Canada       | 1200 |\n",
       "| 5 | Canola | Saskatchewan | 1200 |\n",
       "| 6 | Canola | Canada       | 1300 |\n",
       "| 7 | Rye    | Saskatchewan | 1300 |\n",
       "| 8 | Canola | Saskatchewan | 1300 |\n",
       "| 9 | Canola | Saskatchewan | 1400 |\n",
       "| 10 | Canola | Canada       | 1400 |\n",
       "| 11 | Canola | Saskatchewan | 1400 |\n",
       "| 12 | Canola | Saskatchewan | 1400 |\n",
       "| 13 | Canola | Alberta      | 1500 |\n",
       "| 14 | Canola | Canada       | 1500 |\n",
       "| 15 | Canola | Alberta      | 1500 |\n",
       "| 16 | Wheat  | Saskatchewan | 1500 |\n",
       "| 17 | Canola | Saskatchewan | 1500 |\n",
       "| 18 | Canola | Canada       | 1500 |\n",
       "| 19 | Rye    | Saskatchewan | 1600 |\n",
       "| 20 | Wheat  | Saskatchewan | 1600 |\n",
       "| 21 | Rye    | Alberta      | 1600 |\n",
       "| 22 | Canola | Canada       | 1600 |\n",
       "| 23 | Canola | Canada       | 1600 |\n",
       "| 24 | Rye    | Saskatchewan | 1600 |\n",
       "| 25 | Rye    | Alberta      | 1700 |\n",
       "| 26 | Rye    | Canada       | 1700 |\n",
       "| 27 | Canola | Alberta      | 1700 |\n",
       "| 28 | Wheat  | Saskatchewan | 1700 |\n",
       "| 29 | Canola | Canada       | 1700 |\n",
       "| 30 | Canola | Alberta      | 1700 |\n",
       "| ⋮ | ⋮ | ⋮ | ⋮ |\n",
       "| 223 | Wheat  | Canada       | 3512 |\n",
       "| 224 | Wheat  | Alberta      | 3518 |\n",
       "| 225 | Barley | Alberta      | 3595 |\n",
       "| 226 | Barley | Alberta      | 3600 |\n",
       "| 227 | Barley | Alberta      | 3600 |\n",
       "| 228 | Barley | Alberta      | 3600 |\n",
       "| 229 | Barley | Alberta      | 3600 |\n",
       "| 230 | Barley | Saskatchewan | 3600 |\n",
       "| 231 | Wheat  | Canada       | 3600 |\n",
       "| 232 | Barley | Alberta      | 3600 |\n",
       "| 233 | Wheat  | Canada       | 3600 |\n",
       "| 234 | Barley | Saskatchewan | 3600 |\n",
       "| 235 | Barley | Saskatchewan | 3690 |\n",
       "| 236 | Rye    | Alberta      | 3691 |\n",
       "| 237 | Barley | Alberta      | 3700 |\n",
       "| 238 | Barley | Canada       | 3700 |\n",
       "| 239 | Barley | Saskatchewan | 3730 |\n",
       "| 240 | Wheat  | Alberta      | 3750 |\n",
       "| 241 | Barley | Canada       | 3800 |\n",
       "| 242 | Barley | Saskatchewan | 3800 |\n",
       "| 243 | Barley | Canada       | 3810 |\n",
       "| 244 | Barley | Canada       | 3820 |\n",
       "| 245 | Barley | Alberta      | 3890 |\n",
       "| 246 | Wheat  | Alberta      | 3900 |\n",
       "| 247 | Barley | Canada       | 3900 |\n",
       "| 248 | Wheat  | Alberta      | 3900 |\n",
       "| 249 | Barley | Alberta      | 3900 |\n",
       "| 250 | Barley | Alberta      | 3980 |\n",
       "| 251 | Barley | Alberta      | 4100 |\n",
       "| 252 | Barley | Alberta      | 4100 |\n",
       "\n"
      ],
      "text/plain": [
       "    CROP_TYPE GEO          AVG_YIELD\n",
       "1   Canola    Saskatchewan 1000     \n",
       "2   Canola    Saskatchewan 1100     \n",
       "3   Canola    Alberta      1200     \n",
       "4   Canola    Canada       1200     \n",
       "5   Canola    Saskatchewan 1200     \n",
       "6   Canola    Canada       1300     \n",
       "7   Rye       Saskatchewan 1300     \n",
       "8   Canola    Saskatchewan 1300     \n",
       "9   Canola    Saskatchewan 1400     \n",
       "10  Canola    Canada       1400     \n",
       "11  Canola    Saskatchewan 1400     \n",
       "12  Canola    Saskatchewan 1400     \n",
       "13  Canola    Alberta      1500     \n",
       "14  Canola    Canada       1500     \n",
       "15  Canola    Alberta      1500     \n",
       "16  Wheat     Saskatchewan 1500     \n",
       "17  Canola    Saskatchewan 1500     \n",
       "18  Canola    Canada       1500     \n",
       "19  Rye       Saskatchewan 1600     \n",
       "20  Wheat     Saskatchewan 1600     \n",
       "21  Rye       Alberta      1600     \n",
       "22  Canola    Canada       1600     \n",
       "23  Canola    Canada       1600     \n",
       "24  Rye       Saskatchewan 1600     \n",
       "25  Rye       Alberta      1700     \n",
       "26  Rye       Canada       1700     \n",
       "27  Canola    Alberta      1700     \n",
       "28  Wheat     Saskatchewan 1700     \n",
       "29  Canola    Canada       1700     \n",
       "30  Canola    Alberta      1700     \n",
       "⋮   ⋮         ⋮            ⋮        \n",
       "223 Wheat     Canada       3512     \n",
       "224 Wheat     Alberta      3518     \n",
       "225 Barley    Alberta      3595     \n",
       "226 Barley    Alberta      3600     \n",
       "227 Barley    Alberta      3600     \n",
       "228 Barley    Alberta      3600     \n",
       "229 Barley    Alberta      3600     \n",
       "230 Barley    Saskatchewan 3600     \n",
       "231 Wheat     Canada       3600     \n",
       "232 Barley    Alberta      3600     \n",
       "233 Wheat     Canada       3600     \n",
       "234 Barley    Saskatchewan 3600     \n",
       "235 Barley    Saskatchewan 3690     \n",
       "236 Rye       Alberta      3691     \n",
       "237 Barley    Alberta      3700     \n",
       "238 Barley    Canada       3700     \n",
       "239 Barley    Saskatchewan 3730     \n",
       "240 Wheat     Alberta      3750     \n",
       "241 Barley    Canada       3800     \n",
       "242 Barley    Saskatchewan 3800     \n",
       "243 Barley    Canada       3810     \n",
       "244 Barley    Canada       3820     \n",
       "245 Barley    Alberta      3890     \n",
       "246 Wheat     Alberta      3900     \n",
       "247 Barley    Canada       3900     \n",
       "248 Wheat     Alberta      3900     \n",
       "249 Barley    Alberta      3900     \n",
       "250 Barley    Alberta      3980     \n",
       "251 Barley    Alberta      4100     \n",
       "252 Barley    Alberta      4100     "
      ]
     },
     "metadata": {},
     "output_type": "display_data"
    }
   ],
   "source": [
    "YEAR2000 <- \"SELECT CROP_TYPE, GEO, AVG_YIELD FROM CROP_DATA WHERE YEAR >= '2000-12-31' ORDER BY AVG_YIELD;\"\n",
    "sqlQuery(conn, YEAR2000)"
   ]
  },
  {
   "cell_type": "markdown",
   "metadata": {},
   "source": [
    "## Problem 12\n",
    "\n",
    "#### Use a subquery to determine how much wheat was harvested in Canada in the most recent year of the data.\n"
   ]
  },
  {
   "cell_type": "markdown",
   "metadata": {},
   "source": [
    "### Solution 12\n"
   ]
  },
  {
   "cell_type": "code",
   "execution_count": 32,
   "metadata": {},
   "outputs": [
    {
     "data": {
      "text/html": [
       "<table>\n",
       "<caption>A data.frame: 168 × 3</caption>\n",
       "<thead>\n",
       "\t<tr><th></th><th scope=col>CROP_TYPE</th><th scope=col>YEAR</th><th scope=col>3</th></tr>\n",
       "\t<tr><th></th><th scope=col>&lt;fct&gt;</th><th scope=col>&lt;date&gt;</th><th scope=col>&lt;int&gt;</th></tr>\n",
       "</thead>\n",
       "<tbody>\n",
       "\t<tr><th scope=row>1</th><td>Wheat</td><td>1965-12-31</td><td>1940190048</td></tr>\n",
       "\t<tr><th scope=row>2</th><td>Wheat</td><td>1965-12-31</td><td>1940190048</td></tr>\n",
       "\t<tr><th scope=row>3</th><td>Wheat</td><td>1965-12-31</td><td>1940190048</td></tr>\n",
       "\t<tr><th scope=row>4</th><td>Wheat</td><td>1966-12-31</td><td>1940190048</td></tr>\n",
       "\t<tr><th scope=row>5</th><td>Wheat</td><td>1966-12-31</td><td>1940190048</td></tr>\n",
       "\t<tr><th scope=row>6</th><td>Wheat</td><td>1966-12-31</td><td>1940190048</td></tr>\n",
       "\t<tr><th scope=row>7</th><td>Wheat</td><td>1967-12-31</td><td>1940190048</td></tr>\n",
       "\t<tr><th scope=row>8</th><td>Wheat</td><td>1967-12-31</td><td>1940190048</td></tr>\n",
       "\t<tr><th scope=row>9</th><td>Wheat</td><td>1967-12-31</td><td>1940190048</td></tr>\n",
       "\t<tr><th scope=row>10</th><td>Wheat</td><td>1968-12-31</td><td>1940190048</td></tr>\n",
       "\t<tr><th scope=row>11</th><td>Wheat</td><td>1968-12-31</td><td>1940190048</td></tr>\n",
       "\t<tr><th scope=row>12</th><td>Wheat</td><td>1968-12-31</td><td>1940190048</td></tr>\n",
       "\t<tr><th scope=row>13</th><td>Wheat</td><td>1969-12-31</td><td>1940190048</td></tr>\n",
       "\t<tr><th scope=row>14</th><td>Wheat</td><td>1969-12-31</td><td>1940190048</td></tr>\n",
       "\t<tr><th scope=row>15</th><td>Wheat</td><td>1969-12-31</td><td>1940190048</td></tr>\n",
       "\t<tr><th scope=row>16</th><td>Wheat</td><td>1970-12-31</td><td>1940190048</td></tr>\n",
       "\t<tr><th scope=row>17</th><td>Wheat</td><td>1970-12-31</td><td>1940190048</td></tr>\n",
       "\t<tr><th scope=row>18</th><td>Wheat</td><td>1970-12-31</td><td>1940190048</td></tr>\n",
       "\t<tr><th scope=row>19</th><td>Wheat</td><td>1971-12-31</td><td>1940190048</td></tr>\n",
       "\t<tr><th scope=row>20</th><td>Wheat</td><td>1971-12-31</td><td>1940190048</td></tr>\n",
       "\t<tr><th scope=row>21</th><td>Wheat</td><td>1971-12-31</td><td>1940190048</td></tr>\n",
       "\t<tr><th scope=row>22</th><td>Wheat</td><td>1972-12-31</td><td>1940190048</td></tr>\n",
       "\t<tr><th scope=row>23</th><td>Wheat</td><td>1972-12-31</td><td>1940190048</td></tr>\n",
       "\t<tr><th scope=row>24</th><td>Wheat</td><td>1972-12-31</td><td>1940190048</td></tr>\n",
       "\t<tr><th scope=row>25</th><td>Wheat</td><td>1973-12-31</td><td>1940190048</td></tr>\n",
       "\t<tr><th scope=row>26</th><td>Wheat</td><td>1973-12-31</td><td>1940190048</td></tr>\n",
       "\t<tr><th scope=row>27</th><td>Wheat</td><td>1973-12-31</td><td>1940190048</td></tr>\n",
       "\t<tr><th scope=row>28</th><td>Wheat</td><td>1974-12-31</td><td>1940190048</td></tr>\n",
       "\t<tr><th scope=row>29</th><td>Wheat</td><td>1974-12-31</td><td>1940190048</td></tr>\n",
       "\t<tr><th scope=row>30</th><td>Wheat</td><td>1974-12-31</td><td>1940190048</td></tr>\n",
       "\t<tr><th scope=row>⋮</th><td>⋮</td><td>⋮</td><td>⋮</td></tr>\n",
       "\t<tr><th scope=row>139</th><td>Wheat</td><td>2011-12-31</td><td>1940190048</td></tr>\n",
       "\t<tr><th scope=row>140</th><td>Wheat</td><td>2011-12-31</td><td>1940190048</td></tr>\n",
       "\t<tr><th scope=row>141</th><td>Wheat</td><td>2011-12-31</td><td>1940190048</td></tr>\n",
       "\t<tr><th scope=row>142</th><td>Wheat</td><td>2012-12-31</td><td>1940190048</td></tr>\n",
       "\t<tr><th scope=row>143</th><td>Wheat</td><td>2012-12-31</td><td>1940190048</td></tr>\n",
       "\t<tr><th scope=row>144</th><td>Wheat</td><td>2012-12-31</td><td>1940190048</td></tr>\n",
       "\t<tr><th scope=row>145</th><td>Wheat</td><td>2013-12-31</td><td>1940190048</td></tr>\n",
       "\t<tr><th scope=row>146</th><td>Wheat</td><td>2013-12-31</td><td>1940190048</td></tr>\n",
       "\t<tr><th scope=row>147</th><td>Wheat</td><td>2013-12-31</td><td>1940190048</td></tr>\n",
       "\t<tr><th scope=row>148</th><td>Wheat</td><td>2014-12-31</td><td>1940190048</td></tr>\n",
       "\t<tr><th scope=row>149</th><td>Wheat</td><td>2014-12-31</td><td>1940190048</td></tr>\n",
       "\t<tr><th scope=row>150</th><td>Wheat</td><td>2014-12-31</td><td>1940190048</td></tr>\n",
       "\t<tr><th scope=row>151</th><td>Wheat</td><td>2015-12-31</td><td>1940190048</td></tr>\n",
       "\t<tr><th scope=row>152</th><td>Wheat</td><td>2015-12-31</td><td>1940190048</td></tr>\n",
       "\t<tr><th scope=row>153</th><td>Wheat</td><td>2015-12-31</td><td>1940190048</td></tr>\n",
       "\t<tr><th scope=row>154</th><td>Wheat</td><td>2016-12-31</td><td>1940190048</td></tr>\n",
       "\t<tr><th scope=row>155</th><td>Wheat</td><td>2016-12-31</td><td>1940190048</td></tr>\n",
       "\t<tr><th scope=row>156</th><td>Wheat</td><td>2016-12-31</td><td>1940190048</td></tr>\n",
       "\t<tr><th scope=row>157</th><td>Wheat</td><td>2017-12-31</td><td>1940190048</td></tr>\n",
       "\t<tr><th scope=row>158</th><td>Wheat</td><td>2017-12-31</td><td>1940190048</td></tr>\n",
       "\t<tr><th scope=row>159</th><td>Wheat</td><td>2017-12-31</td><td>1940190048</td></tr>\n",
       "\t<tr><th scope=row>160</th><td>Wheat</td><td>2018-12-31</td><td>1940190048</td></tr>\n",
       "\t<tr><th scope=row>161</th><td>Wheat</td><td>2018-12-31</td><td>1940190048</td></tr>\n",
       "\t<tr><th scope=row>162</th><td>Wheat</td><td>2018-12-31</td><td>1940190048</td></tr>\n",
       "\t<tr><th scope=row>163</th><td>Wheat</td><td>2019-12-31</td><td>1940190048</td></tr>\n",
       "\t<tr><th scope=row>164</th><td>Wheat</td><td>2019-12-31</td><td>1940190048</td></tr>\n",
       "\t<tr><th scope=row>165</th><td>Wheat</td><td>2019-12-31</td><td>1940190048</td></tr>\n",
       "\t<tr><th scope=row>166</th><td>Wheat</td><td>2020-12-31</td><td>1940190048</td></tr>\n",
       "\t<tr><th scope=row>167</th><td>Wheat</td><td>2020-12-31</td><td>1940190048</td></tr>\n",
       "\t<tr><th scope=row>168</th><td>Wheat</td><td>2020-12-31</td><td>1940190048</td></tr>\n",
       "</tbody>\n",
       "</table>\n"
      ],
      "text/latex": [
       "A data.frame: 168 × 3\n",
       "\\begin{tabular}{r|lll}\n",
       "  & CROP\\_TYPE & YEAR & 3\\\\\n",
       "  & <fct> & <date> & <int>\\\\\n",
       "\\hline\n",
       "\t1 & Wheat & 1965-12-31 & 1940190048\\\\\n",
       "\t2 & Wheat & 1965-12-31 & 1940190048\\\\\n",
       "\t3 & Wheat & 1965-12-31 & 1940190048\\\\\n",
       "\t4 & Wheat & 1966-12-31 & 1940190048\\\\\n",
       "\t5 & Wheat & 1966-12-31 & 1940190048\\\\\n",
       "\t6 & Wheat & 1966-12-31 & 1940190048\\\\\n",
       "\t7 & Wheat & 1967-12-31 & 1940190048\\\\\n",
       "\t8 & Wheat & 1967-12-31 & 1940190048\\\\\n",
       "\t9 & Wheat & 1967-12-31 & 1940190048\\\\\n",
       "\t10 & Wheat & 1968-12-31 & 1940190048\\\\\n",
       "\t11 & Wheat & 1968-12-31 & 1940190048\\\\\n",
       "\t12 & Wheat & 1968-12-31 & 1940190048\\\\\n",
       "\t13 & Wheat & 1969-12-31 & 1940190048\\\\\n",
       "\t14 & Wheat & 1969-12-31 & 1940190048\\\\\n",
       "\t15 & Wheat & 1969-12-31 & 1940190048\\\\\n",
       "\t16 & Wheat & 1970-12-31 & 1940190048\\\\\n",
       "\t17 & Wheat & 1970-12-31 & 1940190048\\\\\n",
       "\t18 & Wheat & 1970-12-31 & 1940190048\\\\\n",
       "\t19 & Wheat & 1971-12-31 & 1940190048\\\\\n",
       "\t20 & Wheat & 1971-12-31 & 1940190048\\\\\n",
       "\t21 & Wheat & 1971-12-31 & 1940190048\\\\\n",
       "\t22 & Wheat & 1972-12-31 & 1940190048\\\\\n",
       "\t23 & Wheat & 1972-12-31 & 1940190048\\\\\n",
       "\t24 & Wheat & 1972-12-31 & 1940190048\\\\\n",
       "\t25 & Wheat & 1973-12-31 & 1940190048\\\\\n",
       "\t26 & Wheat & 1973-12-31 & 1940190048\\\\\n",
       "\t27 & Wheat & 1973-12-31 & 1940190048\\\\\n",
       "\t28 & Wheat & 1974-12-31 & 1940190048\\\\\n",
       "\t29 & Wheat & 1974-12-31 & 1940190048\\\\\n",
       "\t30 & Wheat & 1974-12-31 & 1940190048\\\\\n",
       "\t⋮ & ⋮ & ⋮ & ⋮\\\\\n",
       "\t139 & Wheat & 2011-12-31 & 1940190048\\\\\n",
       "\t140 & Wheat & 2011-12-31 & 1940190048\\\\\n",
       "\t141 & Wheat & 2011-12-31 & 1940190048\\\\\n",
       "\t142 & Wheat & 2012-12-31 & 1940190048\\\\\n",
       "\t143 & Wheat & 2012-12-31 & 1940190048\\\\\n",
       "\t144 & Wheat & 2012-12-31 & 1940190048\\\\\n",
       "\t145 & Wheat & 2013-12-31 & 1940190048\\\\\n",
       "\t146 & Wheat & 2013-12-31 & 1940190048\\\\\n",
       "\t147 & Wheat & 2013-12-31 & 1940190048\\\\\n",
       "\t148 & Wheat & 2014-12-31 & 1940190048\\\\\n",
       "\t149 & Wheat & 2014-12-31 & 1940190048\\\\\n",
       "\t150 & Wheat & 2014-12-31 & 1940190048\\\\\n",
       "\t151 & Wheat & 2015-12-31 & 1940190048\\\\\n",
       "\t152 & Wheat & 2015-12-31 & 1940190048\\\\\n",
       "\t153 & Wheat & 2015-12-31 & 1940190048\\\\\n",
       "\t154 & Wheat & 2016-12-31 & 1940190048\\\\\n",
       "\t155 & Wheat & 2016-12-31 & 1940190048\\\\\n",
       "\t156 & Wheat & 2016-12-31 & 1940190048\\\\\n",
       "\t157 & Wheat & 2017-12-31 & 1940190048\\\\\n",
       "\t158 & Wheat & 2017-12-31 & 1940190048\\\\\n",
       "\t159 & Wheat & 2017-12-31 & 1940190048\\\\\n",
       "\t160 & Wheat & 2018-12-31 & 1940190048\\\\\n",
       "\t161 & Wheat & 2018-12-31 & 1940190048\\\\\n",
       "\t162 & Wheat & 2018-12-31 & 1940190048\\\\\n",
       "\t163 & Wheat & 2019-12-31 & 1940190048\\\\\n",
       "\t164 & Wheat & 2019-12-31 & 1940190048\\\\\n",
       "\t165 & Wheat & 2019-12-31 & 1940190048\\\\\n",
       "\t166 & Wheat & 2020-12-31 & 1940190048\\\\\n",
       "\t167 & Wheat & 2020-12-31 & 1940190048\\\\\n",
       "\t168 & Wheat & 2020-12-31 & 1940190048\\\\\n",
       "\\end{tabular}\n"
      ],
      "text/markdown": [
       "\n",
       "A data.frame: 168 × 3\n",
       "\n",
       "| <!--/--> | CROP_TYPE &lt;fct&gt; | YEAR &lt;date&gt; | 3 &lt;int&gt; |\n",
       "|---|---|---|---|\n",
       "| 1 | Wheat | 1965-12-31 | 1940190048 |\n",
       "| 2 | Wheat | 1965-12-31 | 1940190048 |\n",
       "| 3 | Wheat | 1965-12-31 | 1940190048 |\n",
       "| 4 | Wheat | 1966-12-31 | 1940190048 |\n",
       "| 5 | Wheat | 1966-12-31 | 1940190048 |\n",
       "| 6 | Wheat | 1966-12-31 | 1940190048 |\n",
       "| 7 | Wheat | 1967-12-31 | 1940190048 |\n",
       "| 8 | Wheat | 1967-12-31 | 1940190048 |\n",
       "| 9 | Wheat | 1967-12-31 | 1940190048 |\n",
       "| 10 | Wheat | 1968-12-31 | 1940190048 |\n",
       "| 11 | Wheat | 1968-12-31 | 1940190048 |\n",
       "| 12 | Wheat | 1968-12-31 | 1940190048 |\n",
       "| 13 | Wheat | 1969-12-31 | 1940190048 |\n",
       "| 14 | Wheat | 1969-12-31 | 1940190048 |\n",
       "| 15 | Wheat | 1969-12-31 | 1940190048 |\n",
       "| 16 | Wheat | 1970-12-31 | 1940190048 |\n",
       "| 17 | Wheat | 1970-12-31 | 1940190048 |\n",
       "| 18 | Wheat | 1970-12-31 | 1940190048 |\n",
       "| 19 | Wheat | 1971-12-31 | 1940190048 |\n",
       "| 20 | Wheat | 1971-12-31 | 1940190048 |\n",
       "| 21 | Wheat | 1971-12-31 | 1940190048 |\n",
       "| 22 | Wheat | 1972-12-31 | 1940190048 |\n",
       "| 23 | Wheat | 1972-12-31 | 1940190048 |\n",
       "| 24 | Wheat | 1972-12-31 | 1940190048 |\n",
       "| 25 | Wheat | 1973-12-31 | 1940190048 |\n",
       "| 26 | Wheat | 1973-12-31 | 1940190048 |\n",
       "| 27 | Wheat | 1973-12-31 | 1940190048 |\n",
       "| 28 | Wheat | 1974-12-31 | 1940190048 |\n",
       "| 29 | Wheat | 1974-12-31 | 1940190048 |\n",
       "| 30 | Wheat | 1974-12-31 | 1940190048 |\n",
       "| ⋮ | ⋮ | ⋮ | ⋮ |\n",
       "| 139 | Wheat | 2011-12-31 | 1940190048 |\n",
       "| 140 | Wheat | 2011-12-31 | 1940190048 |\n",
       "| 141 | Wheat | 2011-12-31 | 1940190048 |\n",
       "| 142 | Wheat | 2012-12-31 | 1940190048 |\n",
       "| 143 | Wheat | 2012-12-31 | 1940190048 |\n",
       "| 144 | Wheat | 2012-12-31 | 1940190048 |\n",
       "| 145 | Wheat | 2013-12-31 | 1940190048 |\n",
       "| 146 | Wheat | 2013-12-31 | 1940190048 |\n",
       "| 147 | Wheat | 2013-12-31 | 1940190048 |\n",
       "| 148 | Wheat | 2014-12-31 | 1940190048 |\n",
       "| 149 | Wheat | 2014-12-31 | 1940190048 |\n",
       "| 150 | Wheat | 2014-12-31 | 1940190048 |\n",
       "| 151 | Wheat | 2015-12-31 | 1940190048 |\n",
       "| 152 | Wheat | 2015-12-31 | 1940190048 |\n",
       "| 153 | Wheat | 2015-12-31 | 1940190048 |\n",
       "| 154 | Wheat | 2016-12-31 | 1940190048 |\n",
       "| 155 | Wheat | 2016-12-31 | 1940190048 |\n",
       "| 156 | Wheat | 2016-12-31 | 1940190048 |\n",
       "| 157 | Wheat | 2017-12-31 | 1940190048 |\n",
       "| 158 | Wheat | 2017-12-31 | 1940190048 |\n",
       "| 159 | Wheat | 2017-12-31 | 1940190048 |\n",
       "| 160 | Wheat | 2018-12-31 | 1940190048 |\n",
       "| 161 | Wheat | 2018-12-31 | 1940190048 |\n",
       "| 162 | Wheat | 2018-12-31 | 1940190048 |\n",
       "| 163 | Wheat | 2019-12-31 | 1940190048 |\n",
       "| 164 | Wheat | 2019-12-31 | 1940190048 |\n",
       "| 165 | Wheat | 2019-12-31 | 1940190048 |\n",
       "| 166 | Wheat | 2020-12-31 | 1940190048 |\n",
       "| 167 | Wheat | 2020-12-31 | 1940190048 |\n",
       "| 168 | Wheat | 2020-12-31 | 1940190048 |\n",
       "\n"
      ],
      "text/plain": [
       "    CROP_TYPE YEAR       3         \n",
       "1   Wheat     1965-12-31 1940190048\n",
       "2   Wheat     1965-12-31 1940190048\n",
       "3   Wheat     1965-12-31 1940190048\n",
       "4   Wheat     1966-12-31 1940190048\n",
       "5   Wheat     1966-12-31 1940190048\n",
       "6   Wheat     1966-12-31 1940190048\n",
       "7   Wheat     1967-12-31 1940190048\n",
       "8   Wheat     1967-12-31 1940190048\n",
       "9   Wheat     1967-12-31 1940190048\n",
       "10  Wheat     1968-12-31 1940190048\n",
       "11  Wheat     1968-12-31 1940190048\n",
       "12  Wheat     1968-12-31 1940190048\n",
       "13  Wheat     1969-12-31 1940190048\n",
       "14  Wheat     1969-12-31 1940190048\n",
       "15  Wheat     1969-12-31 1940190048\n",
       "16  Wheat     1970-12-31 1940190048\n",
       "17  Wheat     1970-12-31 1940190048\n",
       "18  Wheat     1970-12-31 1940190048\n",
       "19  Wheat     1971-12-31 1940190048\n",
       "20  Wheat     1971-12-31 1940190048\n",
       "21  Wheat     1971-12-31 1940190048\n",
       "22  Wheat     1972-12-31 1940190048\n",
       "23  Wheat     1972-12-31 1940190048\n",
       "24  Wheat     1972-12-31 1940190048\n",
       "25  Wheat     1973-12-31 1940190048\n",
       "26  Wheat     1973-12-31 1940190048\n",
       "27  Wheat     1973-12-31 1940190048\n",
       "28  Wheat     1974-12-31 1940190048\n",
       "29  Wheat     1974-12-31 1940190048\n",
       "30  Wheat     1974-12-31 1940190048\n",
       "⋮   ⋮         ⋮          ⋮         \n",
       "139 Wheat     2011-12-31 1940190048\n",
       "140 Wheat     2011-12-31 1940190048\n",
       "141 Wheat     2011-12-31 1940190048\n",
       "142 Wheat     2012-12-31 1940190048\n",
       "143 Wheat     2012-12-31 1940190048\n",
       "144 Wheat     2012-12-31 1940190048\n",
       "145 Wheat     2013-12-31 1940190048\n",
       "146 Wheat     2013-12-31 1940190048\n",
       "147 Wheat     2013-12-31 1940190048\n",
       "148 Wheat     2014-12-31 1940190048\n",
       "149 Wheat     2014-12-31 1940190048\n",
       "150 Wheat     2014-12-31 1940190048\n",
       "151 Wheat     2015-12-31 1940190048\n",
       "152 Wheat     2015-12-31 1940190048\n",
       "153 Wheat     2015-12-31 1940190048\n",
       "154 Wheat     2016-12-31 1940190048\n",
       "155 Wheat     2016-12-31 1940190048\n",
       "156 Wheat     2016-12-31 1940190048\n",
       "157 Wheat     2017-12-31 1940190048\n",
       "158 Wheat     2017-12-31 1940190048\n",
       "159 Wheat     2017-12-31 1940190048\n",
       "160 Wheat     2018-12-31 1940190048\n",
       "161 Wheat     2018-12-31 1940190048\n",
       "162 Wheat     2018-12-31 1940190048\n",
       "163 Wheat     2019-12-31 1940190048\n",
       "164 Wheat     2019-12-31 1940190048\n",
       "165 Wheat     2019-12-31 1940190048\n",
       "166 Wheat     2020-12-31 1940190048\n",
       "167 Wheat     2020-12-31 1940190048\n",
       "168 Wheat     2020-12-31 1940190048"
      ]
     },
     "metadata": {},
     "output_type": "display_data"
    }
   ],
   "source": [
    "Wheat <- \"SELECT CROP_TYPE, YEAR, (SELECT SUM(HARVESTED_AREA) FROM CROP_DATA) FROM CROP_DATA WHERE CROP_TYPE = 'Wheat' ORDER BY YEAR;\"\n",
    "sqlQuery(conn, Wheat)"
   ]
  },
  {
   "cell_type": "markdown",
   "metadata": {},
   "source": [
    "## Problem 13\n",
    "\n",
    "#### Use an implicit inner join to calculate the monthly price per metric tonne of Canola grown in Saskatchewan in both Canadian and US dollars. Display the most recent 6 months of the data.\n"
   ]
  },
  {
   "cell_type": "markdown",
   "metadata": {},
   "source": [
    "### Solution 13\n"
   ]
  },
  {
   "cell_type": "code",
   "execution_count": 34,
   "metadata": {},
   "outputs": [
    {
     "data": {
      "text/html": [
       "<table>\n",
       "<caption>A data.frame: 6 × 5</caption>\n",
       "<thead>\n",
       "\t<tr><th></th><th scope=col>DATE</th><th scope=col>CROP</th><th scope=col>LOCATION</th><th scope=col>USD</th><th scope=col>CAD</th></tr>\n",
       "\t<tr><th></th><th scope=col>&lt;date&gt;</th><th scope=col>&lt;fct&gt;</th><th scope=col>&lt;fct&gt;</th><th scope=col>&lt;dbl&gt;</th><th scope=col>&lt;dbl&gt;</th></tr>\n",
       "</thead>\n",
       "<tbody>\n",
       "\t<tr><th scope=row>1</th><td>2020-12-01</td><td>Canola</td><td>Saskatchewan</td><td>507.33</td><td>649.7735</td></tr>\n",
       "\t<tr><th scope=row>2</th><td>2020-11-01</td><td>Canola</td><td>Saskatchewan</td><td>495.64</td><td>647.7123</td></tr>\n",
       "\t<tr><th scope=row>3</th><td>2020-10-01</td><td>Canola</td><td>Saskatchewan</td><td>474.80</td><td>627.4344</td></tr>\n",
       "\t<tr><th scope=row>4</th><td>2020-09-01</td><td>Canola</td><td>Saskatchewan</td><td>463.52</td><td>613.1489</td></tr>\n",
       "\t<tr><th scope=row>5</th><td>2020-08-01</td><td>Canola</td><td>Saskatchewan</td><td>464.60</td><td>614.2964</td></tr>\n",
       "\t<tr><th scope=row>6</th><td>2020-07-01</td><td>Canola</td><td>Saskatchewan</td><td>462.88</td><td>624.8186</td></tr>\n",
       "</tbody>\n",
       "</table>\n"
      ],
      "text/latex": [
       "A data.frame: 6 × 5\n",
       "\\begin{tabular}{r|lllll}\n",
       "  & DATE & CROP & LOCATION & USD & CAD\\\\\n",
       "  & <date> & <fct> & <fct> & <dbl> & <dbl>\\\\\n",
       "\\hline\n",
       "\t1 & 2020-12-01 & Canola & Saskatchewan & 507.33 & 649.7735\\\\\n",
       "\t2 & 2020-11-01 & Canola & Saskatchewan & 495.64 & 647.7123\\\\\n",
       "\t3 & 2020-10-01 & Canola & Saskatchewan & 474.80 & 627.4344\\\\\n",
       "\t4 & 2020-09-01 & Canola & Saskatchewan & 463.52 & 613.1489\\\\\n",
       "\t5 & 2020-08-01 & Canola & Saskatchewan & 464.60 & 614.2964\\\\\n",
       "\t6 & 2020-07-01 & Canola & Saskatchewan & 462.88 & 624.8186\\\\\n",
       "\\end{tabular}\n"
      ],
      "text/markdown": [
       "\n",
       "A data.frame: 6 × 5\n",
       "\n",
       "| <!--/--> | DATE &lt;date&gt; | CROP &lt;fct&gt; | LOCATION &lt;fct&gt; | USD &lt;dbl&gt; | CAD &lt;dbl&gt; |\n",
       "|---|---|---|---|---|---|\n",
       "| 1 | 2020-12-01 | Canola | Saskatchewan | 507.33 | 649.7735 |\n",
       "| 2 | 2020-11-01 | Canola | Saskatchewan | 495.64 | 647.7123 |\n",
       "| 3 | 2020-10-01 | Canola | Saskatchewan | 474.80 | 627.4344 |\n",
       "| 4 | 2020-09-01 | Canola | Saskatchewan | 463.52 | 613.1489 |\n",
       "| 5 | 2020-08-01 | Canola | Saskatchewan | 464.60 | 614.2964 |\n",
       "| 6 | 2020-07-01 | Canola | Saskatchewan | 462.88 | 624.8186 |\n",
       "\n"
      ],
      "text/plain": [
       "  DATE       CROP   LOCATION     USD    CAD     \n",
       "1 2020-12-01 Canola Saskatchewan 507.33 649.7735\n",
       "2 2020-11-01 Canola Saskatchewan 495.64 647.7123\n",
       "3 2020-10-01 Canola Saskatchewan 474.80 627.4344\n",
       "4 2020-09-01 Canola Saskatchewan 463.52 613.1489\n",
       "5 2020-08-01 Canola Saskatchewan 464.60 614.2964\n",
       "6 2020-07-01 Canola Saskatchewan 462.88 624.8186"
      ]
     },
     "metadata": {},
     "output_type": "display_data"
    }
   ],
   "source": [
    "MPPMTC <- \"SELECT FARM_PRICES.DATE, CROP_TYPE AS Crop, GEO AS Location, PRICE_PRERMT AS USD, PRICE_PRERMT*FXUSDCAD AS CAD\n",
    "FROM FARM_PRICES, MONTHLY_FX where FARM_PRICES.DATE = MONTHLY_FX.DATE\n",
    "AND CROP_TYPE = 'Canola' AND GEO = 'Saskatchewan' \n",
    "ORDER BY DATE DESC \n",
    "LIMIT 6;\"\n",
    "sqlQuery(conn, MPPMTC)"
   ]
  },
  {
   "cell_type": "markdown",
   "metadata": {},
   "source": [
    "## Author(s)\n",
    "\n",
    "<h4> Jeff Grossman </h4>\n",
    "\n",
    "## Contributor(s)\n",
    "\n",
    "<h4> Rav Ahuja </h4>\n",
    "\n",
    "## Change log\n",
    "\n",
    "| Date       | Version | Changed by    | Change Description                                                                                         |\n",
    "| ---------- | ------- | ------------- | ---------------------------------------------------------------------------------------------------------- |\n",
    "| 2021-04-01 | 0.7     | Jeff Grossman | Split Problem 1 solution cell into multiple cells, fixed minor bugs                                        |\n",
    "| 2021-03-12 | 0.6     | Jeff Grossman | Cleaned up content for production                                                                          |\n",
    "| 2021-03-11 | 0.5     | Jeff Grossman | Moved more advanced problems to optional honours module                                                    |\n",
    "| 2021-03-10 | 0.4     | Jeff Grossman | Added introductory and intermediate level problems and removed some advanced problems                      |\n",
    "| 2021-03-04 | 0.3     | Jeff Grossman | Moved some problems to a new practice lab as prep for this assignment                                      |\n",
    "| 2021-03-04 | 0.2     | Jeff Grossman | Sorted problems roughly by level of difficulty and relegated more advanced ones to ungraded bonus problems |\n",
    "| 2021-02-20 | 0.1     | Jeff Grossman | Started content creation                                                                                   |\n",
    "\n",
    "## <h3 align=\"center\"> © IBM Corporation 2021. All rights reserved. <h3/>\n"
   ]
  },
  {
   "cell_type": "code",
   "execution_count": null,
   "metadata": {},
   "outputs": [],
   "source": []
  }
 ],
 "metadata": {
  "kernelspec": {
   "display_name": "R",
   "language": "R",
   "name": "conda-env-r-r"
  },
  "language_info": {
   "codemirror_mode": "r",
   "file_extension": ".r",
   "mimetype": "text/x-r-source",
   "name": "R",
   "pygments_lexer": "r",
   "version": "3.5.1"
  },
  "widgets": {
   "state": {},
   "version": "1.1.2"
  }
 },
 "nbformat": 4,
 "nbformat_minor": 4
}
